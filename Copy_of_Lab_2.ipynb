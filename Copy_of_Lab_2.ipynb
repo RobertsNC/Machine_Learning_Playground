{
  "nbformat": 4,
  "nbformat_minor": 0,
  "metadata": {
    "colab": {
      "name": "Copy of Lab_2.ipynb",
      "version": "0.3.2",
      "provenance": [],
      "collapsed_sections": [],
      "include_colab_link": true
    },
    "kernelspec": {
      "display_name": "Python 3",
      "language": "python",
      "name": "python3"
    }
  },
  "cells": [
    {
      "cell_type": "markdown",
      "metadata": {
        "id": "view-in-github",
        "colab_type": "text"
      },
      "source": [
        "<a href=\"https://colab.research.google.com/github/RobertsNC/Machine_Learning_Playground/blob/master/Copy_of_Lab_2.ipynb\" target=\"_parent\"><img src=\"https://colab.research.google.com/assets/colab-badge.svg\" alt=\"Open In Colab\"/></a>"
      ]
    },
    {
      "cell_type": "markdown",
      "metadata": {
        "colab_type": "text",
        "id": "mla57I5fGREO"
      },
      "source": [
        "## <center> CSCI3151 Lab 2 : Scikit-Learn</center>\n",
        "<center>TA: Xiang Jiang, <b><i>xiang.jiang@dal.ca.</i></b>  </center>"
      ]
    },
    {
      "cell_type": "markdown",
      "metadata": {
        "colab_type": "text",
        "id": "Ci9ZXyBqGRES"
      },
      "source": [
        "This is a tutorial on fundamental ideas of <a href =\"https://scikit-learn.org/stable/tutorial/basic/tutorial.html\"> SKlearn </a>. This tutorial focuses on working with text data. This notes is just a starting point. You are encouraged to find out more. The ideal use of this notebook would be as a reference which you keep updating as you learn new things.\n",
        "\n",
        "<b>Credits:</b> Content presented in this tutorial is based on the example presented in [Scikit-learn Tutorial](https://www.dataquest.io/blog/sci-kit-learn-tutorial/)\n",
        "\n"
      ]
    },
    {
      "cell_type": "markdown",
      "metadata": {
        "colab_type": "text",
        "id": "IFyLEAoLGREU"
      },
      "source": [
        "## SkLearn ## "
      ]
    },
    {
      "cell_type": "markdown",
      "metadata": {
        "colab_type": "text",
        "id": "WJRsS9xCGmrl"
      },
      "source": [
        "![Image](https://i.ibb.co/S0mt33d/sk.png)\n"
      ]
    },
    {
      "cell_type": "markdown",
      "metadata": {
        "colab_type": "text",
        "id": "VA8gx3wEGREY"
      },
      "source": [
        "Scikit-learn is an open source (free) machine learning library for Python. It features various algorithms like support vector machine, random forests, and k-neighbours, and it also supports Python numerical and scientific libraries like NumPy and SciPy."
      ]
    },
    {
      "cell_type": "markdown",
      "metadata": {
        "colab_type": "text",
        "id": "dbja34JEGREZ"
      },
      "source": [
        "All the models follow the same pattern of training and testing:\n",
        "1. Choose and instantiate a model : model = ...\n",
        "2. Train the model: model.fit(X,y) [You need to pass y if it is supervised]\n",
        "3. Test the model: model.predict(X) \n",
        "    * This will be a real number if it is regression.\n",
        "    * Class label if it is classification.\n",
        "    * Cluster assignment if it is clustering. "
      ]
    },
    {
      "cell_type": "markdown",
      "metadata": {
        "colab_type": "text",
        "id": "B9tBrd-8J4Ye"
      },
      "source": [
        "###  <a href =\"https://www.dataquest.io/blog/sci-kit-learn-tutorial/\"> Example </a> \n",
        "#### Dataset: \n",
        "In this example, we will use <a href =\"https://www.ibm.com/communities/analytics/watson-analytics-blog/sales-win-loss-sample-dataset/\">  Sales_Win_Loss </a> dataset from IBM's Watson repository. This data set contains the sales campaign data of an automotive parts wholesale supplier.\n",
        "It finds the patterns in sales wins and losses. It helps you to understand your sales pipeline and uncover what can lead to successful sales opportunities and better anticipate performance gaps.\n",
        "\n",
        "By exploring the data, you can gain these informations:\n",
        "- What are the top supplies group by opportunity amount where result is won?\n",
        "- Top Route to Market by Opportunity Size.\n",
        "-  Use Predict to determine what the main drivers are for Opportunity Result where there is a win?  \n",
        "- Comparison of the number of Wins and Losses in a bar chart, Bubble chart comparing Supplies Group by Opportunity Amount and a Bubble Chart comparing Competitor Type by Opportunity Amount in a single dashboard.  \n",
        "\n",
        "\n",
        "\n",
        "**Using scikit-learn we can build a predictive model to tell us which sales campaign will result in a loss and which will result in a win.**"
      ]
    },
    {
      "cell_type": "markdown",
      "metadata": {
        "colab_type": "text",
        "id": "3a58_0LDjI7s"
      },
      "source": [
        "#### Download the dataset and convert it into a pandas dataframe"
      ]
    },
    {
      "cell_type": "code",
      "metadata": {
        "colab_type": "code",
        "id": "zmiCItPMgTGJ",
        "outputId": "224a10cf-0dbc-425e-832f-76562c7b59ef",
        "colab": {
          "base_uri": "https://localhost:8080/",
          "height": 357
        }
      },
      "source": [
        "import pandas as pd\n",
        "import io\n",
        "import requests\n",
        "url = 'https://raw.githubusercontent.com/reza11617/hello-world/master/Sales_Win_Loss.csv'\n",
        "s=requests.get(url).content\n",
        "sales_data = pd.read_csv(io.StringIO(s.decode('utf-8')))\n",
        "#sales_data = pd . read_csv ('Sales_Win_Loss.csv')\n",
        "sales_data.head()"
      ],
      "execution_count": 0,
      "outputs": [
        {
          "output_type": "execute_result",
          "data": {
            "text/html": [
              "<div>\n",
              "<style scoped>\n",
              "    .dataframe tbody tr th:only-of-type {\n",
              "        vertical-align: middle;\n",
              "    }\n",
              "\n",
              "    .dataframe tbody tr th {\n",
              "        vertical-align: top;\n",
              "    }\n",
              "\n",
              "    .dataframe thead th {\n",
              "        text-align: right;\n",
              "    }\n",
              "</style>\n",
              "<table border=\"1\" class=\"dataframe\">\n",
              "  <thead>\n",
              "    <tr style=\"text-align: right;\">\n",
              "      <th></th>\n",
              "      <th>Opportunity Number</th>\n",
              "      <th>Supplies Subgroup</th>\n",
              "      <th>Supplies Group</th>\n",
              "      <th>Region</th>\n",
              "      <th>Route To Market</th>\n",
              "      <th>Elapsed Days In Sales Stage</th>\n",
              "      <th>Opportunity Result</th>\n",
              "      <th>Sales Stage Change Count</th>\n",
              "      <th>Total Days Identified Through Closing</th>\n",
              "      <th>Total Days Identified Through Qualified</th>\n",
              "      <th>Opportunity Amount USD</th>\n",
              "      <th>Client Size By Revenue</th>\n",
              "      <th>Client Size By Employee Count</th>\n",
              "      <th>Revenue From Client Past Two Years</th>\n",
              "      <th>Competitor Type</th>\n",
              "      <th>Ratio Days Identified To Total Days</th>\n",
              "      <th>Ratio Days Validated To Total Days</th>\n",
              "      <th>Ratio Days Qualified To Total Days</th>\n",
              "      <th>Deal Size Category</th>\n",
              "    </tr>\n",
              "  </thead>\n",
              "  <tbody>\n",
              "    <tr>\n",
              "      <th>0</th>\n",
              "      <td>1641984</td>\n",
              "      <td>Exterior Accessories</td>\n",
              "      <td>Car Accessories</td>\n",
              "      <td>Northwest</td>\n",
              "      <td>Fields Sales</td>\n",
              "      <td>76</td>\n",
              "      <td>Won</td>\n",
              "      <td>13</td>\n",
              "      <td>104</td>\n",
              "      <td>101</td>\n",
              "      <td>0</td>\n",
              "      <td>5</td>\n",
              "      <td>5</td>\n",
              "      <td>0</td>\n",
              "      <td>Unknown</td>\n",
              "      <td>0.69636</td>\n",
              "      <td>0.113985</td>\n",
              "      <td>0.154215</td>\n",
              "      <td>1</td>\n",
              "    </tr>\n",
              "    <tr>\n",
              "      <th>1</th>\n",
              "      <td>1658010</td>\n",
              "      <td>Exterior Accessories</td>\n",
              "      <td>Car Accessories</td>\n",
              "      <td>Pacific</td>\n",
              "      <td>Reseller</td>\n",
              "      <td>63</td>\n",
              "      <td>Loss</td>\n",
              "      <td>2</td>\n",
              "      <td>163</td>\n",
              "      <td>163</td>\n",
              "      <td>0</td>\n",
              "      <td>3</td>\n",
              "      <td>5</td>\n",
              "      <td>0</td>\n",
              "      <td>Unknown</td>\n",
              "      <td>0.00000</td>\n",
              "      <td>1.000000</td>\n",
              "      <td>0.000000</td>\n",
              "      <td>1</td>\n",
              "    </tr>\n",
              "    <tr>\n",
              "      <th>2</th>\n",
              "      <td>1674737</td>\n",
              "      <td>Motorcycle Parts</td>\n",
              "      <td>Performance &amp; Non-auto</td>\n",
              "      <td>Pacific</td>\n",
              "      <td>Reseller</td>\n",
              "      <td>24</td>\n",
              "      <td>Won</td>\n",
              "      <td>7</td>\n",
              "      <td>82</td>\n",
              "      <td>82</td>\n",
              "      <td>7750</td>\n",
              "      <td>1</td>\n",
              "      <td>1</td>\n",
              "      <td>0</td>\n",
              "      <td>Unknown</td>\n",
              "      <td>1.00000</td>\n",
              "      <td>0.000000</td>\n",
              "      <td>0.000000</td>\n",
              "      <td>1</td>\n",
              "    </tr>\n",
              "    <tr>\n",
              "      <th>3</th>\n",
              "      <td>1675224</td>\n",
              "      <td>Shelters &amp; RV</td>\n",
              "      <td>Performance &amp; Non-auto</td>\n",
              "      <td>Midwest</td>\n",
              "      <td>Reseller</td>\n",
              "      <td>16</td>\n",
              "      <td>Loss</td>\n",
              "      <td>5</td>\n",
              "      <td>124</td>\n",
              "      <td>124</td>\n",
              "      <td>0</td>\n",
              "      <td>1</td>\n",
              "      <td>1</td>\n",
              "      <td>0</td>\n",
              "      <td>Known</td>\n",
              "      <td>1.00000</td>\n",
              "      <td>0.000000</td>\n",
              "      <td>0.000000</td>\n",
              "      <td>1</td>\n",
              "    </tr>\n",
              "    <tr>\n",
              "      <th>4</th>\n",
              "      <td>1689785</td>\n",
              "      <td>Exterior Accessories</td>\n",
              "      <td>Car Accessories</td>\n",
              "      <td>Pacific</td>\n",
              "      <td>Reseller</td>\n",
              "      <td>69</td>\n",
              "      <td>Loss</td>\n",
              "      <td>11</td>\n",
              "      <td>91</td>\n",
              "      <td>13</td>\n",
              "      <td>69756</td>\n",
              "      <td>1</td>\n",
              "      <td>1</td>\n",
              "      <td>0</td>\n",
              "      <td>Unknown</td>\n",
              "      <td>0.00000</td>\n",
              "      <td>0.141125</td>\n",
              "      <td>0.000000</td>\n",
              "      <td>4</td>\n",
              "    </tr>\n",
              "  </tbody>\n",
              "</table>\n",
              "</div>"
            ],
            "text/plain": [
              "   Opportunity Number  ... Deal Size Category\n",
              "0             1641984  ...                  1\n",
              "1             1658010  ...                  1\n",
              "2             1674737  ...                  1\n",
              "3             1675224  ...                  1\n",
              "4             1689785  ...                  4\n",
              "\n",
              "[5 rows x 19 columns]"
            ]
          },
          "metadata": {
            "tags": []
          },
          "execution_count": 1
        }
      ]
    },
    {
      "cell_type": "code",
      "metadata": {
        "colab_type": "code",
        "id": "UJk8mDnurh7q",
        "outputId": "e649213a-d8c9-4c80-ad83-c9ad0303bb7f",
        "colab": {
          "base_uri": "https://localhost:8080/",
          "height": 261
        }
      },
      "source": [
        "sales_data.tail(n=3)"
      ],
      "execution_count": 0,
      "outputs": [
        {
          "output_type": "execute_result",
          "data": {
            "text/html": [
              "<div>\n",
              "<style scoped>\n",
              "    .dataframe tbody tr th:only-of-type {\n",
              "        vertical-align: middle;\n",
              "    }\n",
              "\n",
              "    .dataframe tbody tr th {\n",
              "        vertical-align: top;\n",
              "    }\n",
              "\n",
              "    .dataframe thead th {\n",
              "        text-align: right;\n",
              "    }\n",
              "</style>\n",
              "<table border=\"1\" class=\"dataframe\">\n",
              "  <thead>\n",
              "    <tr style=\"text-align: right;\">\n",
              "      <th></th>\n",
              "      <th>Opportunity Number</th>\n",
              "      <th>Supplies Subgroup</th>\n",
              "      <th>Supplies Group</th>\n",
              "      <th>Region</th>\n",
              "      <th>Route To Market</th>\n",
              "      <th>Elapsed Days In Sales Stage</th>\n",
              "      <th>Opportunity Result</th>\n",
              "      <th>Sales Stage Change Count</th>\n",
              "      <th>Total Days Identified Through Closing</th>\n",
              "      <th>Total Days Identified Through Qualified</th>\n",
              "      <th>Opportunity Amount USD</th>\n",
              "      <th>Client Size By Revenue</th>\n",
              "      <th>Client Size By Employee Count</th>\n",
              "      <th>Revenue From Client Past Two Years</th>\n",
              "      <th>Competitor Type</th>\n",
              "      <th>Ratio Days Identified To Total Days</th>\n",
              "      <th>Ratio Days Validated To Total Days</th>\n",
              "      <th>Ratio Days Qualified To Total Days</th>\n",
              "      <th>Deal Size Category</th>\n",
              "    </tr>\n",
              "  </thead>\n",
              "  <tbody>\n",
              "    <tr>\n",
              "      <th>78022</th>\n",
              "      <td>10090145</td>\n",
              "      <td>Exterior Accessories</td>\n",
              "      <td>Car Accessories</td>\n",
              "      <td>Southeast</td>\n",
              "      <td>Reseller</td>\n",
              "      <td>0</td>\n",
              "      <td>Loss</td>\n",
              "      <td>2</td>\n",
              "      <td>0</td>\n",
              "      <td>0</td>\n",
              "      <td>90000</td>\n",
              "      <td>1</td>\n",
              "      <td>1</td>\n",
              "      <td>0</td>\n",
              "      <td>Unknown</td>\n",
              "      <td>0.0</td>\n",
              "      <td>0.0</td>\n",
              "      <td>0.0</td>\n",
              "      <td>4</td>\n",
              "    </tr>\n",
              "    <tr>\n",
              "      <th>78023</th>\n",
              "      <td>10090430</td>\n",
              "      <td>Exterior Accessories</td>\n",
              "      <td>Car Accessories</td>\n",
              "      <td>Southeast</td>\n",
              "      <td>Fields Sales</td>\n",
              "      <td>0</td>\n",
              "      <td>Loss</td>\n",
              "      <td>2</td>\n",
              "      <td>0</td>\n",
              "      <td>0</td>\n",
              "      <td>120000</td>\n",
              "      <td>1</td>\n",
              "      <td>1</td>\n",
              "      <td>0</td>\n",
              "      <td>Unknown</td>\n",
              "      <td>1.0</td>\n",
              "      <td>0.0</td>\n",
              "      <td>0.0</td>\n",
              "      <td>5</td>\n",
              "    </tr>\n",
              "    <tr>\n",
              "      <th>78024</th>\n",
              "      <td>10094255</td>\n",
              "      <td>Interior Accessories</td>\n",
              "      <td>Car Accessories</td>\n",
              "      <td>Mid-Atlantic</td>\n",
              "      <td>Reseller</td>\n",
              "      <td>0</td>\n",
              "      <td>Loss</td>\n",
              "      <td>1</td>\n",
              "      <td>0</td>\n",
              "      <td>0</td>\n",
              "      <td>90000</td>\n",
              "      <td>1</td>\n",
              "      <td>1</td>\n",
              "      <td>0</td>\n",
              "      <td>Unknown</td>\n",
              "      <td>0.0</td>\n",
              "      <td>0.0</td>\n",
              "      <td>0.0</td>\n",
              "      <td>4</td>\n",
              "    </tr>\n",
              "  </tbody>\n",
              "</table>\n",
              "</div>"
            ],
            "text/plain": [
              "       Opportunity Number  ... Deal Size Category\n",
              "78022            10090145  ...                  4\n",
              "78023            10090430  ...                  5\n",
              "78024            10094255  ...                  4\n",
              "\n",
              "[3 rows x 19 columns]"
            ]
          },
          "metadata": {
            "tags": []
          },
          "execution_count": 2
        }
      ]
    },
    {
      "cell_type": "markdown",
      "metadata": {
        "colab_type": "text",
        "id": "Nii_kobvxyR5"
      },
      "source": [
        "As you can see in the dataset, *Opportunity Result* field could be our *Target*, in this way, our problem is a **binary classification** task, containing two classes: Loss and Won."
      ]
    },
    {
      "cell_type": "markdown",
      "metadata": {
        "colab_type": "text",
        "id": "-q_UO0RGsMYn"
      },
      "source": [
        "**Available different datatypes in this data set:**"
      ]
    },
    {
      "cell_type": "code",
      "metadata": {
        "colab_type": "code",
        "id": "n2BzM3g0scTJ",
        "outputId": "6f20b94d-1561-458f-ff73-01199dc41570",
        "colab": {
          "base_uri": "https://localhost:8080/",
          "height": 357
        }
      },
      "source": [
        "sales_data.dtypes"
      ],
      "execution_count": 0,
      "outputs": [
        {
          "output_type": "execute_result",
          "data": {
            "text/plain": [
              "Opportunity Number                           int64\n",
              "Supplies Subgroup                           object\n",
              "Supplies Group                              object\n",
              "Region                                      object\n",
              "Route To Market                             object\n",
              "Elapsed Days In Sales Stage                  int64\n",
              "Opportunity Result                          object\n",
              "Sales Stage Change Count                     int64\n",
              "Total Days Identified Through Closing        int64\n",
              "Total Days Identified Through Qualified      int64\n",
              "Opportunity Amount USD                       int64\n",
              "Client Size By Revenue                       int64\n",
              "Client Size By Employee Count                int64\n",
              "Revenue From Client Past Two Years           int64\n",
              "Competitor Type                             object\n",
              "Ratio Days Identified To Total Days        float64\n",
              "Ratio Days Validated To Total Days         float64\n",
              "Ratio Days Qualified To Total Days         float64\n",
              "Deal Size Category                           int64\n",
              "dtype: object"
            ]
          },
          "metadata": {
            "tags": []
          },
          "execution_count": 3
        }
      ]
    },
    {
      "cell_type": "markdown",
      "metadata": {
        "colab_type": "text",
        "id": "boNfe4-xsz9o"
      },
      "source": [
        "**Data Visualization**\n",
        "\n",
        "\n",
        "<a href = \"https://seaborn.pydata.org/\"> Seaborn</a> is a high-level plotting library for Python which is closely integrated with pandas data structures.\n",
        "To use Seaborn plots, we should make sure that this python module is downloaded and installed.\n",
        "\n",
        "Seaborn builds on <a href = \"https://matplotlib.org/\"> matplotlib</a>  and makes certain types of plots."
      ]
    },
    {
      "cell_type": "code",
      "metadata": {
        "colab_type": "code",
        "id": "HNKjxkqGvMTW",
        "outputId": "dd670a7a-f02a-4c1a-d467-b5d8d02bf69f",
        "colab": {
          "base_uri": "https://localhost:8080/",
          "height": 301
        }
      },
      "source": [
        "import seaborn as sns\n",
        "import matplotlib.pyplot as plt\n",
        "\n",
        "# set the background colour of the plot to white\n",
        "sns.set(style=\"whitegrid\", color_codes=True)\n",
        "\n",
        "# create a countplot\n",
        "sns.countplot('Route To Market',data=sales_data,hue = 'Opportunity Result')\n",
        "\n",
        "# Remove the top and down margin\n",
        "sns.despine(offset=10, trim=True)\n",
        "\n",
        "# display the plot\n",
        "plt.show()"
      ],
      "execution_count": 0,
      "outputs": [
        {
          "output_type": "display_data",
          "data": {
            "image/png": "[encoded data removed]",
            "text/plain": [
              "<Figure size 432x288 with 1 Axes>"
            ]
          },
          "metadata": {
            "tags": []
          }
        }
      ]
    },
    {
      "cell_type": "markdown",
      "metadata": {
        "colab_type": "text",
        "id": "JZ4iWbCN5u8k"
      },
      "source": [
        "\n",
        "*   The ***set()*** method set different properties for our plot, like 'styles', 'color' etc. \n",
        "*   For example, we can set the plot size with the ***sns.set ( rc = {'figure.figsize' : (11.7,8.27) } )*** code, which defines the plot figure size to be 11.7px and 8.27px.\n",
        "*   The ***countplot()*** method helps us to create a [countplot](https://seaborn.pydata.org/generated/seaborn.countplot.html) and it exposes several arguments to customize the countplot per our needs. \n",
        "\n",
        "\n",
        "\n"
      ]
    },
    {
      "cell_type": "markdown",
      "metadata": {
        "colab_type": "text",
        "id": "gwEnKFfW-uqa"
      },
      "source": [
        "### Preprocessing Data:\n",
        "\n",
        "*   That most of the columns in our data set are strings, but the algorithms in scikit-learn understand only numeric data.\n",
        "*   **[LabelEncoder()](https://scikit-learn.org/stable/modules/generated/sklearn.preprocessing.LabelEncoder.html)** is a method for converting string data into numerical data. \n",
        "*   We will use this method to convert the categorical labels in our data set like 'won' and 'loss' into numerical labels.\n",
        "*   We will use the **fit_transform()** method provided by  **LabelEncoder()** to encode the labels in the categorical column such as *Route To Market* in the sales_data dataframe and convert them into numeric labels.\n"
      ]
    },
    {
      "cell_type": "markdown",
      "metadata": {
        "colab_type": "text",
        "id": "XjduaaPJAZfx"
      },
      "source": [
        "*   In the code example below we have a list of cities i.e.*[\"paris\", \"paris\", \"tokyo\", \"amsterdam\"]* and we will try to encode these string labels into something similar to this - *[1 1 2 0].*"
      ]
    },
    {
      "cell_type": "code",
      "metadata": {
        "colab_type": "code",
        "id": "RYKRzafB2QfH",
        "outputId": "08b2ba37-6559-4be7-be7f-b984e471d441",
        "colab": {
          "base_uri": "https://localhost:8080/",
          "height": 34
        }
      },
      "source": [
        "from sklearn import preprocessing\n",
        "\n",
        "# create the Labelencoder object\n",
        "le = preprocessing.LabelEncoder()\n",
        "\n",
        "#convert the categorical columns into numeric\n",
        "encoded_value = le.fit_transform([\"paris\", \"paris\", \"tokyo\", \"amsterdam\"])\n",
        "\n",
        "print(encoded_value)"
      ],
      "execution_count": 0,
      "outputs": [
        {
          "output_type": "stream",
          "text": [
            "[1 1 2 0]\n"
          ],
          "name": "stdout"
        }
      ]
    },
    {
      "cell_type": "markdown",
      "metadata": {
        "colab_type": "text",
        "id": "Y9paI1uOBX8f"
      },
      "source": [
        "In the previous sections during the initial exploration of the data set we saw that the following columns contain string values: *'Supplies Subgroup', 'Region', 'Route To Market', 'Opportunity Result', 'Competitor Type',* and *'Supplies Group'*. \n",
        "\n",
        "Before we start encoding these string labels, let's take a quick look into the different labels that these columns contain:"
      ]
    },
    {
      "cell_type": "code",
      "metadata": {
        "colab_type": "code",
        "id": "2amf6MDcBngo",
        "outputId": "b30ee198-06a1-45d4-d7b0-f546f6b14c9b",
        "colab": {
          "base_uri": "https://localhost:8080/",
          "height": 204
        }
      },
      "source": [
        "print(\"Supplies Subgroup' : \",sales_data['Supplies Subgroup'].unique())\n",
        "print(\"Region : \",sales_data['Region'].unique())\n",
        "print(\"Route To Market : \",sales_data['Route To Market'].unique())\n",
        "print(\"Opportunity Result : \",sales_data['Opportunity Result'].unique())\n",
        "print(\"Competitor Type : \",sales_data['Competitor Type'].unique())\n",
        "print(\"'Supplies Group : \",sales_data['Supplies Group'].unique())"
      ],
      "execution_count": 0,
      "outputs": [
        {
          "output_type": "stream",
          "text": [
            "Supplies Subgroup' :  ['Exterior Accessories' 'Motorcycle Parts' 'Shelters & RV'\n",
            " 'Garage & Car Care' 'Batteries & Accessories' 'Performance Parts'\n",
            " 'Towing & Hitches' 'Replacement Parts' 'Tires & Wheels'\n",
            " 'Interior Accessories' 'Car Electronics']\n",
            "Region :  ['Northwest' 'Pacific' 'Midwest' 'Southwest' 'Mid-Atlantic' 'Northeast'\n",
            " 'Southeast']\n",
            "Route To Market :  ['Fields Sales' 'Reseller' 'Other' 'Telesales' 'Telecoverage']\n",
            "Opportunity Result :  ['Won' 'Loss']\n",
            "Competitor Type :  ['Unknown' 'Known' 'None']\n",
            "'Supplies Group :  ['Car Accessories' 'Performance & Non-auto' 'Tires & Wheels'\n",
            " 'Car Electronics']\n"
          ],
          "name": "stdout"
        }
      ]
    },
    {
      "cell_type": "markdown",
      "metadata": {
        "colab_type": "text",
        "id": "pAykJCRbB0b2"
      },
      "source": [
        "It's time to encode these strings into numeric labels:"
      ]
    },
    {
      "cell_type": "code",
      "metadata": {
        "colab_type": "code",
        "id": "5KTvf-VXB3U2",
        "outputId": "b787a7d6-9ff7-4dae-f257-34a0a008194b",
        "colab": {
          "base_uri": "https://localhost:8080/",
          "height": 272
        }
      },
      "source": [
        "sales_data['Supplies Subgroup'] = le.fit_transform(sales_data['Supplies Subgroup'])\n",
        "sales_data['Region'] = le.fit_transform(sales_data['Region'])\n",
        "sales_data['Route To Market'] = le.fit_transform(sales_data['Route To Market'])\n",
        "sales_data['Opportunity Result'] = le.fit_transform(sales_data['Opportunity Result'])\n",
        "sales_data['Competitor Type'] = le.fit_transform(sales_data['Competitor Type'])\n",
        "sales_data['Supplies Group'] = le.fit_transform(sales_data['Supplies Group'])\n",
        "\n",
        "\n",
        "sales_data.head()"
      ],
      "execution_count": 0,
      "outputs": [
        {
          "output_type": "execute_result",
          "data": {
            "text/html": [
              "<div>\n",
              "<style scoped>\n",
              "    .dataframe tbody tr th:only-of-type {\n",
              "        vertical-align: middle;\n",
              "    }\n",
              "\n",
              "    .dataframe tbody tr th {\n",
              "        vertical-align: top;\n",
              "    }\n",
              "\n",
              "    .dataframe thead th {\n",
              "        text-align: right;\n",
              "    }\n",
              "</style>\n",
              "<table border=\"1\" class=\"dataframe\">\n",
              "  <thead>\n",
              "    <tr style=\"text-align: right;\">\n",
              "      <th></th>\n",
              "      <th>Opportunity Number</th>\n",
              "      <th>Supplies Subgroup</th>\n",
              "      <th>Supplies Group</th>\n",
              "      <th>Region</th>\n",
              "      <th>Route To Market</th>\n",
              "      <th>Elapsed Days In Sales Stage</th>\n",
              "      <th>Opportunity Result</th>\n",
              "      <th>Sales Stage Change Count</th>\n",
              "      <th>Total Days Identified Through Closing</th>\n",
              "      <th>Total Days Identified Through Qualified</th>\n",
              "      <th>Opportunity Amount USD</th>\n",
              "      <th>Client Size By Revenue</th>\n",
              "      <th>Client Size By Employee Count</th>\n",
              "      <th>Revenue From Client Past Two Years</th>\n",
              "      <th>Competitor Type</th>\n",
              "      <th>Ratio Days Identified To Total Days</th>\n",
              "      <th>Ratio Days Validated To Total Days</th>\n",
              "      <th>Ratio Days Qualified To Total Days</th>\n",
              "      <th>Deal Size Category</th>\n",
              "    </tr>\n",
              "  </thead>\n",
              "  <tbody>\n",
              "    <tr>\n",
              "      <th>0</th>\n",
              "      <td>1641984</td>\n",
              "      <td>2</td>\n",
              "      <td>0</td>\n",
              "      <td>3</td>\n",
              "      <td>0</td>\n",
              "      <td>76</td>\n",
              "      <td>1</td>\n",
              "      <td>13</td>\n",
              "      <td>104</td>\n",
              "      <td>101</td>\n",
              "      <td>0</td>\n",
              "      <td>5</td>\n",
              "      <td>5</td>\n",
              "      <td>0</td>\n",
              "      <td>2</td>\n",
              "      <td>0.69636</td>\n",
              "      <td>0.113985</td>\n",
              "      <td>0.154215</td>\n",
              "      <td>1</td>\n",
              "    </tr>\n",
              "    <tr>\n",
              "      <th>1</th>\n",
              "      <td>1658010</td>\n",
              "      <td>2</td>\n",
              "      <td>0</td>\n",
              "      <td>4</td>\n",
              "      <td>2</td>\n",
              "      <td>63</td>\n",
              "      <td>0</td>\n",
              "      <td>2</td>\n",
              "      <td>163</td>\n",
              "      <td>163</td>\n",
              "      <td>0</td>\n",
              "      <td>3</td>\n",
              "      <td>5</td>\n",
              "      <td>0</td>\n",
              "      <td>2</td>\n",
              "      <td>0.00000</td>\n",
              "      <td>1.000000</td>\n",
              "      <td>0.000000</td>\n",
              "      <td>1</td>\n",
              "    </tr>\n",
              "    <tr>\n",
              "      <th>2</th>\n",
              "      <td>1674737</td>\n",
              "      <td>5</td>\n",
              "      <td>2</td>\n",
              "      <td>4</td>\n",
              "      <td>2</td>\n",
              "      <td>24</td>\n",
              "      <td>1</td>\n",
              "      <td>7</td>\n",
              "      <td>82</td>\n",
              "      <td>82</td>\n",
              "      <td>7750</td>\n",
              "      <td>1</td>\n",
              "      <td>1</td>\n",
              "      <td>0</td>\n",
              "      <td>2</td>\n",
              "      <td>1.00000</td>\n",
              "      <td>0.000000</td>\n",
              "      <td>0.000000</td>\n",
              "      <td>1</td>\n",
              "    </tr>\n",
              "    <tr>\n",
              "      <th>3</th>\n",
              "      <td>1675224</td>\n",
              "      <td>8</td>\n",
              "      <td>2</td>\n",
              "      <td>1</td>\n",
              "      <td>2</td>\n",
              "      <td>16</td>\n",
              "      <td>0</td>\n",
              "      <td>5</td>\n",
              "      <td>124</td>\n",
              "      <td>124</td>\n",
              "      <td>0</td>\n",
              "      <td>1</td>\n",
              "      <td>1</td>\n",
              "      <td>0</td>\n",
              "      <td>0</td>\n",
              "      <td>1.00000</td>\n",
              "      <td>0.000000</td>\n",
              "      <td>0.000000</td>\n",
              "      <td>1</td>\n",
              "    </tr>\n",
              "    <tr>\n",
              "      <th>4</th>\n",
              "      <td>1689785</td>\n",
              "      <td>2</td>\n",
              "      <td>0</td>\n",
              "      <td>4</td>\n",
              "      <td>2</td>\n",
              "      <td>69</td>\n",
              "      <td>0</td>\n",
              "      <td>11</td>\n",
              "      <td>91</td>\n",
              "      <td>13</td>\n",
              "      <td>69756</td>\n",
              "      <td>1</td>\n",
              "      <td>1</td>\n",
              "      <td>0</td>\n",
              "      <td>2</td>\n",
              "      <td>0.00000</td>\n",
              "      <td>0.141125</td>\n",
              "      <td>0.000000</td>\n",
              "      <td>4</td>\n",
              "    </tr>\n",
              "  </tbody>\n",
              "</table>\n",
              "</div>"
            ],
            "text/plain": [
              "   Opportunity Number  ...  Deal Size Category\n",
              "0             1641984  ...                   1\n",
              "1             1658010  ...                   1\n",
              "2             1674737  ...                   1\n",
              "3             1675224  ...                   1\n",
              "4             1689785  ...                   4\n",
              "\n",
              "[5 rows x 19 columns]"
            ]
          },
          "metadata": {
            "tags": []
          },
          "execution_count": 7
        }
      ]
    },
    {
      "cell_type": "markdown",
      "metadata": {
        "colab_type": "text",
        "id": "mY5Zx6eqC0tl"
      },
      "source": [
        "### Training Set & Test Set\n",
        "\n",
        "\n",
        "\n",
        "*   We need to divide the entire data set into two sets, **train** and **test** set. \n",
        "# Why?\n",
        "\n",
        "\n",
        "\n",
        "> First we separate our features and target variables.\n",
        "*   We want to predict the *'Opportunity Result'*, so it should be our *'Target'* rather than part of *'data'*.\n",
        "*   We took the '*Opportunity Result*' column from the dataframe *sales_data* and created a new dataframe *target.*\n",
        "\n",
        "\n",
        "\n"
      ]
    },
    {
      "cell_type": "code",
      "metadata": {
        "colab_type": "code",
        "id": "xEbaGIkPEor3",
        "outputId": "ce80175c-8924-410b-b252-d36faed1b396",
        "colab": {
          "base_uri": "https://localhost:8080/",
          "height": 162
        }
      },
      "source": [
        "#select columns other than 'Opportunity Number','Opportunity Result'\n",
        "cols = [col for col in sales_data.columns if col not in ['Opportunity Number','Opportunity Result']]\n",
        "\n",
        "#dropping the 'Opportunity Number'and 'Opportunity Result' columns\n",
        "data = sales_data[cols]\n",
        "\n",
        "#assigning the Oppurtunity Result column as target\n",
        "target = sales_data['Opportunity Result']\n",
        "\n",
        "data.head(n=2)\n"
      ],
      "execution_count": 0,
      "outputs": [
        {
          "output_type": "execute_result",
          "data": {
            "text/html": [
              "<div>\n",
              "<style scoped>\n",
              "    .dataframe tbody tr th:only-of-type {\n",
              "        vertical-align: middle;\n",
              "    }\n",
              "\n",
              "    .dataframe tbody tr th {\n",
              "        vertical-align: top;\n",
              "    }\n",
              "\n",
              "    .dataframe thead th {\n",
              "        text-align: right;\n",
              "    }\n",
              "</style>\n",
              "<table border=\"1\" class=\"dataframe\">\n",
              "  <thead>\n",
              "    <tr style=\"text-align: right;\">\n",
              "      <th></th>\n",
              "      <th>Supplies Subgroup</th>\n",
              "      <th>Supplies Group</th>\n",
              "      <th>Region</th>\n",
              "      <th>Route To Market</th>\n",
              "      <th>Elapsed Days In Sales Stage</th>\n",
              "      <th>Sales Stage Change Count</th>\n",
              "      <th>Total Days Identified Through Closing</th>\n",
              "      <th>Total Days Identified Through Qualified</th>\n",
              "      <th>Opportunity Amount USD</th>\n",
              "      <th>Client Size By Revenue</th>\n",
              "      <th>Client Size By Employee Count</th>\n",
              "      <th>Revenue From Client Past Two Years</th>\n",
              "      <th>Competitor Type</th>\n",
              "      <th>Ratio Days Identified To Total Days</th>\n",
              "      <th>Ratio Days Validated To Total Days</th>\n",
              "      <th>Ratio Days Qualified To Total Days</th>\n",
              "      <th>Deal Size Category</th>\n",
              "    </tr>\n",
              "  </thead>\n",
              "  <tbody>\n",
              "    <tr>\n",
              "      <th>0</th>\n",
              "      <td>2</td>\n",
              "      <td>0</td>\n",
              "      <td>3</td>\n",
              "      <td>0</td>\n",
              "      <td>76</td>\n",
              "      <td>13</td>\n",
              "      <td>104</td>\n",
              "      <td>101</td>\n",
              "      <td>0</td>\n",
              "      <td>5</td>\n",
              "      <td>5</td>\n",
              "      <td>0</td>\n",
              "      <td>2</td>\n",
              "      <td>0.69636</td>\n",
              "      <td>0.113985</td>\n",
              "      <td>0.154215</td>\n",
              "      <td>1</td>\n",
              "    </tr>\n",
              "    <tr>\n",
              "      <th>1</th>\n",
              "      <td>2</td>\n",
              "      <td>0</td>\n",
              "      <td>4</td>\n",
              "      <td>2</td>\n",
              "      <td>63</td>\n",
              "      <td>2</td>\n",
              "      <td>163</td>\n",
              "      <td>163</td>\n",
              "      <td>0</td>\n",
              "      <td>3</td>\n",
              "      <td>5</td>\n",
              "      <td>0</td>\n",
              "      <td>2</td>\n",
              "      <td>0.00000</td>\n",
              "      <td>1.000000</td>\n",
              "      <td>0.000000</td>\n",
              "      <td>1</td>\n",
              "    </tr>\n",
              "  </tbody>\n",
              "</table>\n",
              "</div>"
            ],
            "text/plain": [
              "   Supplies Subgroup  ...  Deal Size Category\n",
              "0                  2  ...                   1\n",
              "1                  2  ...                   1\n",
              "\n",
              "[2 rows x 17 columns]"
            ]
          },
          "metadata": {
            "tags": []
          },
          "execution_count": 8
        }
      ]
    },
    {
      "cell_type": "markdown",
      "metadata": {
        "colab_type": "text",
        "id": "a51ikgN9FS7r"
      },
      "source": [
        "The [**train_test_split()**](https://scikit-learn.org/stable/modules/generated/sklearn.model_selection.train_test_split.html) method can be used to split the data:\n",
        "- When splitting the data set we will keep 30% of the data as the test data and the remaining 70% as the training data. "
      ]
    },
    {
      "cell_type": "code",
      "metadata": {
        "colab_type": "code",
        "id": "SsEBjvLQFx1t",
        "colab": {}
      },
      "source": [
        "from sklearn.model_selection import train_test_split\n",
        "\n",
        "#split data set into train and test sets\n",
        "data_train, data_test, target_train, target_test = train_test_split(data,target, test_size = 0.30, random_state = 10)\n"
      ],
      "execution_count": 0,
      "outputs": []
    },
    {
      "cell_type": "markdown",
      "metadata": {
        "colab_type": "text",
        "id": "CzrYpcCrF-uX"
      },
      "source": [
        "### Building The Model\n",
        "\n"
      ]
    },
    {
      "cell_type": "markdown",
      "metadata": {
        "colab_type": "text",
        "id": "f72ndJO-fmHX"
      },
      "source": [
        "**Use different algorithms to make predictions and compare their performance:**\n",
        "\n",
        "\n",
        "1.   Naive-Bayes\n",
        "2.   LinearSVC\n",
        "3.   K-Neighbors\n",
        "\n"
      ]
    },
    {
      "cell_type": "markdown",
      "metadata": {
        "colab_type": "text",
        "id": "4nFWyWLMHWDt"
      },
      "source": [
        "* Let's implement the [Gaussian Naive Bayes](https://scikit-learn.org/stable/modules/naive_bayes.html) or GaussianNB algorithm to create our prediction model:"
      ]
    },
    {
      "cell_type": "code",
      "metadata": {
        "colab_type": "code",
        "id": "20rrdUlgHlMM",
        "outputId": "88e819ae-7a62-4d81-d8c2-c3c608f375ed",
        "colab": {
          "base_uri": "https://localhost:8080/",
          "height": 34
        }
      },
      "source": [
        "from sklearn.naive_bayes import GaussianNB\n",
        "from sklearn.metrics import accuracy_score\n",
        "\n",
        "#create an object of the type GaussianNB\n",
        "gnb = GaussianNB()\n",
        "\n",
        "#train the algorithm on training data and predict using the testing data\n",
        "pred = gnb.fit(data_train, target_train).predict(data_test)\n",
        "#print(pred.tolist())\n",
        "\n",
        "#print the accuracy score of the model\n",
        "print(\"Naive-Bayes accuracy : \",accuracy_score(target_test, pred, normalize = True))\n"
      ],
      "execution_count": 0,
      "outputs": [
        {
          "output_type": "stream",
          "text": [
            "Naive-Bayes accuracy :  0.7590567327409433\n"
          ],
          "name": "stdout"
        }
      ]
    },
    {
      "cell_type": "markdown",
      "metadata": {
        "colab_type": "text",
        "id": "8RgP3-8vHtDO"
      },
      "source": [
        "* Now lets see how the other algorithms in our list perform as compared to the Naive-Bayes algorithm:\n",
        "\n",
        "\n",
        "* [LinearSVC](https://scikit-learn.org/stable/modules/generated/sklearn.svm.LinearSVC.html) or Linear Support Vector Classification is a subclass of the SVM (Support Vector Machine) class."
      ]
    },
    {
      "cell_type": "code",
      "metadata": {
        "colab_type": "code",
        "id": "w8j6rHeLH_d6",
        "outputId": "8154d7f0-6b42-4145-8031-b662419eace2",
        "colab": {
          "base_uri": "https://localhost:8080/",
          "height": 68
        }
      },
      "source": [
        "from sklearn.svm import LinearSVC\n",
        "from sklearn.metrics import accuracy_score\n",
        "\n",
        "#create an object of type LinearSVC\n",
        "svc_model = LinearSVC(random_state=0)\n",
        "\n",
        "#train the algorithm on training data and predict using the testing data\n",
        "pred = svc_model.fit(data_train, target_train).predict(data_test)\n",
        "\n",
        "#print the accuracy score of the model\n",
        "print(\"LinearSVC accuracy : \",accuracy_score(target_test, pred, normalize = True))\n"
      ],
      "execution_count": 0,
      "outputs": [
        {
          "output_type": "stream",
          "text": [
            "LinearSVC accuracy :  0.4606971975393028\n"
          ],
          "name": "stdout"
        },
        {
          "output_type": "stream",
          "text": [
            "/usr/local/lib/python3.6/dist-packages/sklearn/svm/base.py:931: ConvergenceWarning: Liblinear failed to converge, increase the number of iterations.\n",
            "  \"the number of iterations.\", ConvergenceWarning)\n"
          ],
          "name": "stderr"
        }
      ]
    },
    {
      "cell_type": "markdown",
      "metadata": {
        "colab_type": "text",
        "id": "EYzEanAx8Z_o"
      },
      "source": [
        " * Simply put the ***random_state*** is an instruction to the built-in random number generator to shuffle the data in a specific order."
      ]
    },
    {
      "cell_type": "markdown",
      "metadata": {
        "colab_type": "text",
        "id": "nIRYaiWSIOB5"
      },
      "source": [
        "* Compared to the previous two algorithms, [K-Neighbors Classifier](https://scikit-learn.org/stable/modules/generated/sklearn.neighbors.KNeighborsClassifier.html) is a bit more complex."
      ]
    },
    {
      "cell_type": "code",
      "metadata": {
        "colab_type": "code",
        "id": "fvW6VCxzIfh0",
        "outputId": "306d061d-b96a-48bf-f6fb-7092ee28e861",
        "colab": {
          "base_uri": "https://localhost:8080/",
          "height": 34
        }
      },
      "source": [
        "from sklearn.neighbors import KNeighborsClassifier\n",
        "from sklearn.metrics import accuracy_score\n",
        "\n",
        "#create object of the lassifier\n",
        "neigh = KNeighborsClassifier(n_neighbors=3)\n",
        "\n",
        "#Train the algorithm\n",
        "neigh.fit(data_train, target_train)\n",
        "\n",
        "# predict the response\n",
        "pred = neigh.predict(data_test)\n",
        "\n",
        "# evaluate accuracy\n",
        "print (\"KNeighbors accuracy score : \",accuracy_score(target_test, pred))"
      ],
      "execution_count": 0,
      "outputs": [
        {
          "output_type": "stream",
          "text": [
            "KNeighbors accuracy score :  0.8145505809979494\n"
          ],
          "name": "stdout"
        }
      ]
    },
    {
      "cell_type": "markdown",
      "metadata": {
        "colab_type": "text",
        "id": "RUtewHwtImO4"
      },
      "source": [
        "### Performance Comparison\n",
        "\n",
        "We have used the **accuracy_score()** method to measure the accuracy of the different algorithms. \n",
        "\n",
        "Now, we will use the **[ClassificationReport](https://scikit-learn.org/stable/modules/generated/sklearn.metrics.classification_report.html)** class to give us a visual report of how our models perform."
      ]
    },
    {
      "cell_type": "markdown",
      "metadata": {
        "colab_type": "text",
        "id": "TOtzuXEFhjox"
      },
      "source": [
        "## Visualizations \n",
        "\n",
        "There are many visualization options in Pthon that we can <a href =\"https://www.dataquest.io/blog/python-data-visualization-libraries/\"> Visualize </a>  the properties of the data. You may use some of them in your assignments to depict the results of your codes.\n",
        "\n",
        "Inorder to visually compare the performance of the different models, we can use [yellowbrick](http://www.scikit-yb.org/en/latest/) library,  which provides methods for visually representing different scoring methods.\n",
        "\n"
      ]
    },
    {
      "cell_type": "code",
      "metadata": {
        "colab_type": "code",
        "id": "HKsamxIGJC83",
        "outputId": "5c6414a8-7c18-4372-d062-08284df8fb3c",
        "colab": {
          "base_uri": "https://localhost:8080/",
          "height": 401
        }
      },
      "source": [
        "from yellowbrick.classifier import ClassificationReport\n",
        "\n",
        "# Instantiate the classification model and visualizer\n",
        "visualizer = ClassificationReport(gnb, classes=['Won','Loss'])\n",
        "\n",
        "visualizer.fit(data_train, target_train)  # Fit the training data to the visualizer\n",
        "visualizer.score(data_test, target_test)  # Evaluate the model on the test data\n",
        "g = visualizer.poof()  "
      ],
      "execution_count": 0,
      "outputs": [
        {
          "output_type": "display_data",
          "data": {
            "image/png": "[encoded data removed]",
            "text/plain": [
              "<Figure size 576x396 with 2 Axes>"
            ]
          },
          "metadata": {
            "tags": []
          }
        }
      ]
    },
    {
      "cell_type": "code",
      "metadata": {
        "colab_type": "code",
        "id": "hSv-nG5hJhHZ",
        "outputId": "2f462226-48cb-4bb2-bb1a-938736bc42c9",
        "colab": {
          "base_uri": "https://localhost:8080/",
          "height": 435
        }
      },
      "source": [
        "from yellowbrick.classifier import ClassificationReport\n",
        "\n",
        "# Instantiate the classification model and visualizer\n",
        "visualizer = ClassificationReport(svc_model, classes=['Won','Loss'])\n",
        "\n",
        "visualizer.fit(data_train, target_train)  # Fit the training data to the visualizer\n",
        "visualizer.score(data_test, target_test)  # Evaluate the model on the test data\n",
        "g = visualizer.poof()  "
      ],
      "execution_count": 0,
      "outputs": [
        {
          "output_type": "stream",
          "text": [
            "/usr/local/lib/python3.6/dist-packages/sklearn/svm/base.py:931: ConvergenceWarning: Liblinear failed to converge, increase the number of iterations.\n",
            "  \"the number of iterations.\", ConvergenceWarning)\n"
          ],
          "name": "stderr"
        },
        {
          "output_type": "display_data",
          "data": {
            "image/png": "[encoded data removed]",
            "text/plain": [
              "<Figure size 576x396 with 2 Axes>"
            ]
          },
          "metadata": {
            "tags": []
          }
        }
      ]
    },
    {
      "cell_type": "code",
      "metadata": {
        "colab_type": "code",
        "id": "aC0L5Bd3JmyT",
        "outputId": "0714a5c4-0d24-49b6-87ce-52d03825b453",
        "colab": {
          "base_uri": "https://localhost:8080/",
          "height": 401
        }
      },
      "source": [
        "from yellowbrick.classifier import ClassificationReport\n",
        "\n",
        "# Instantiate the classification model and visualizer\n",
        "visualizer = ClassificationReport(neigh, classes=['Won','Loss'])\n",
        "\n",
        "visualizer.fit(data_train, target_train)  # Fit the training data to the visualizer\n",
        "visualizer.score(data_test, target_test)  # Evaluate the model on the test data\n",
        "g = visualizer.poof()             # Draw/show/poof the data\n"
      ],
      "execution_count": 0,
      "outputs": [
        {
          "output_type": "display_data",
          "data": {
            "image/png": "[encoded data removed]",
            "text/plain": [
              "<Figure size 576x396 with 2 Axes>"
            ]
          },
          "metadata": {
            "tags": []
          }
        }
      ]
    },
    {
      "cell_type": "markdown",
      "metadata": {
        "colab_type": "text",
        "id": "tk7MBBG8gdcr"
      },
      "source": [
        "### Confusion Matrix\n",
        "\n",
        "*   A [confusion matrix](https://scikit-learn.org/stable/modules/generated/sklearn.metrics.confusion_matrix.html) is a summary of prediction results on a classification problem.\n",
        "*    Is a table with two rows and two columns that reports the number of false positives, false negatives, true positives, and true negatives."
      ]
    },
    {
      "cell_type": "code",
      "metadata": {
        "colab_type": "code",
        "id": "ThPzLsv8h2gi",
        "outputId": "24752d0d-9aab-4bfa-85f0-400c6e4b6230",
        "colab": {
          "base_uri": "https://localhost:8080/",
          "height": 102
        }
      },
      "source": [
        "from sklearn.naive_bayes import GaussianNB\n",
        "from sklearn.metrics import accuracy_score\n",
        "from sklearn.metrics import confusion_matrix\n",
        "\n",
        "gnb = GaussianNB()\n",
        "pred = gnb.fit(data_train, target_train).predict(data_test)\n",
        "print(\"Naive-Bayes accuracy : \",accuracy_score(target_test, pred, normalize = True))\n",
        "y_predNB_train = gnb.predict(data_train)\n",
        "\n",
        "print('Accuracy of NB classifier on test set: {:.2f}'.format(accuracy_score(target_test, pred))) \n",
        "print('Accuracy of NB classifier on train set: {:.2f}'.format(accuracy_score(target_train, y_predNB_train)))\n",
        "confusion_matrixNB = confusion_matrix(target_test, pred)\n",
        "print(confusion_matrixNB)"
      ],
      "execution_count": 0,
      "outputs": [
        {
          "output_type": "stream",
          "text": [
            "Naive-Bayes accuracy :  0.7590567327409433\n",
            "Accuracy of NB classifier on test set: 0.76\n",
            "Accuracy of NB classifier on train set: 0.76\n",
            "[[14613  3453]\n",
            " [ 2187  3155]]\n"
          ],
          "name": "stdout"
        }
      ]
    },
    {
      "cell_type": "markdown",
      "metadata": {
        "colab_type": "text",
        "id": "BcoEiqiIgTHV"
      },
      "source": [
        "### [Plot](https://scikit-learn.org/stable/auto_examples/model_selection/plot_confusion_matrix.html#sphx-glr-auto-examples-model-selection-plot-confusion-matrix-py) Confusion Matrix "
      ]
    },
    {
      "cell_type": "code",
      "metadata": {
        "colab_type": "code",
        "id": "UJnUPbaxgTHY",
        "outputId": "65ca65fb-40a8-4c53-e72a-583437ecbe39",
        "colab": {
          "base_uri": "https://localhost:8080/",
          "height": 938
        }
      },
      "source": [
        "print(__doc__)\n",
        "\n",
        "import itertools\n",
        "import numpy as np\n",
        "import matplotlib.pyplot as plt\n",
        "\n",
        "from sklearn import svm, datasets\n",
        "from sklearn.model_selection import train_test_split\n",
        "from sklearn.metrics import confusion_matrix\n",
        "\n",
        "iris = datasets.load_iris()\n",
        "X = iris.data\n",
        "y = iris.target\n",
        "class_names = iris.target_names\n",
        "\n",
        "X_train, X_test, y_train, y_test = train_test_split(X, y, random_state=0)\n",
        "\n",
        "\n",
        "classifier = svm.SVC(kernel='linear', C=0.01)\n",
        "y_pred = classifier.fit(X_train, y_train).predict(X_test)\n",
        "\n",
        "\n",
        "def plot_confusion_matrix(cm, classes,\n",
        "                          normalize=False,\n",
        "                          title='Confusion matrix',\n",
        "                          cmap=plt.cm.Blues):\n",
        "   \n",
        "    if normalize:\n",
        "        cm = cm.astype('float') / cm.sum(axis=1)[:, np.newaxis]\n",
        "        print(\"Normalized confusion matrix\")\n",
        "    else:\n",
        "        print('Confusion matrix, without normalization')\n",
        "\n",
        "    print(cm)\n",
        "\n",
        "    plt.imshow(cm, interpolation='nearest', cmap=cmap)\n",
        "    plt.title(title)\n",
        "    plt.colorbar()\n",
        "    tick_marks = np.arange(len(classes))\n",
        "    plt.xticks(tick_marks, classes, rotation=45)\n",
        "    plt.yticks(tick_marks, classes)\n",
        "\n",
        "    fmt = '.2f' if normalize else 'd'\n",
        "    thresh = cm.max() / 2.\n",
        "    for i, j in itertools.product(range(cm.shape[0]), range(cm.shape[1])):\n",
        "        plt.text(j, i, format(cm[i, j], fmt),\n",
        "                 horizontalalignment=\"center\",\n",
        "                 color=\"white\" if cm[i, j] > thresh else \"black\")\n",
        "\n",
        "    plt.ylabel('True label')\n",
        "    plt.xlabel('Predicted label')\n",
        "    plt.tight_layout()\n",
        "\n",
        "\n",
        "# Compute confusion matrix\n",
        "cnf_matrix = confusion_matrix(y_test, y_pred)\n",
        "np.set_printoptions(precision=2)\n",
        "\n",
        "# Plot non-normalized confusion matrix\n",
        "plt.figure()\n",
        "plot_confusion_matrix(cnf_matrix, classes=class_names,\n",
        "                      title='Confusion matrix, without normalization')\n",
        "\n",
        "# Plot normalized confusion matrix\n",
        "plt.figure()\n",
        "plot_confusion_matrix(cnf_matrix, classes=class_names, normalize=True,\n",
        "                      title='Normalized confusion matrix')\n",
        "\n",
        "plt.show()"
      ],
      "execution_count": 0,
      "outputs": [
        {
          "output_type": "stream",
          "text": [
            "Automatically created module for IPython interactive environment\n",
            "Confusion matrix, without normalization\n",
            "[[13  0  0]\n",
            " [ 0 10  6]\n",
            " [ 0  0  9]]\n",
            "Normalized confusion matrix\n",
            "[[1.   0.   0.  ]\n",
            " [0.   0.62 0.38]\n",
            " [0.   0.   1.  ]]\n"
          ],
          "name": "stdout"
        },
        {
          "output_type": "display_data",
          "data": {
            "image/png": "[encoded data removed]",
            "text/plain": [
              "<Figure size 576x396 with 2 Axes>"
            ]
          },
          "metadata": {
            "tags": []
          }
        },
        {
          "output_type": "display_data",
          "data": {
            "image/png": "[encoded data removed]",
            "text/plain": [
              "<Figure size 576x396 with 2 Axes>"
            ]
          },
          "metadata": {
            "tags": []
          }
        }
      ]
    },
    {
      "cell_type": "markdown",
      "metadata": {
        "colab_type": "text",
        "id": "d3mg-XnBGREj"
      },
      "source": [
        "###[Cross-validation using SkLearn](https://scikit-learn.org/stable/modules/cross_validation.html):\n",
        "\n",
        "*    [Cross-validation](https://docs.aws.amazon.com/machine-learning/latest/dg/cross-validation.html) is a technique for evaluating ML models by training several ML models on subsets of the available input data and evaluating them on the complementary subset of the data. \n",
        "*     It’s very similar to train/test split, but it’s applied to more subsets. Meaning, we split our data into k subsets, and train on k-1 one of those subset. What we do is to hold the last subset for test. We’re able to do it for each of the subsets.\n",
        "\n",
        "\n",
        "\n"
      ]
    },
    {
      "cell_type": "markdown",
      "metadata": {
        "colab_type": "text",
        "id": "X6UCiyoNeyct"
      },
      "source": [
        "![Image](https://i.ibb.co/ByqrGyp/cv.png)"
      ]
    },
    {
      "cell_type": "code",
      "metadata": {
        "colab_type": "code",
        "id": "WGCc27juV7pT",
        "outputId": "ec64dd18-5df7-46a9-aa7d-7147fae8cde6",
        "colab": {
          "base_uri": "https://localhost:8080/",
          "height": 34
        }
      },
      "source": [
        "import numpy as np\n",
        "from sklearn.model_selection import train_test_split\n",
        "from sklearn import datasets\n",
        "from sklearn import svm\n",
        "from sklearn.model_selection import cross_val_score\n",
        "\n",
        "iris = datasets.load_iris()\n",
        "clf = svm.SVC(kernel='linear', C=1)\n",
        "scores = cross_val_score(clf, iris.data, iris.target, cv=5)\n",
        "scores\n"
      ],
      "execution_count": 0,
      "outputs": [
        {
          "output_type": "execute_result",
          "data": {
            "text/plain": [
              "array([0.97, 1.  , 0.97, 0.97, 1.  ])"
            ]
          },
          "metadata": {
            "tags": []
          },
          "execution_count": 18
        }
      ]
    },
    {
      "cell_type": "markdown",
      "metadata": {
        "colab_type": "text",
        "id": "_uI-cXnDb3Oh"
      },
      "source": [
        "###[K-Folds Cross Validation](https://towardsdatascience.com/train-test-split-and-cross-validation-in-python-80b61beca4b6)\n",
        "\n",
        "*  In K-Folds Cross Validation we split our data into k different subsets (or folds). "
      ]
    },
    {
      "cell_type": "markdown",
      "metadata": {
        "colab_type": "text",
        "id": "-cSg2-jEed7p"
      },
      "source": [
        "![Image](https://i.ibb.co/VDPD5PL/cv2.png)"
      ]
    },
    {
      "cell_type": "code",
      "metadata": {
        "colab_type": "code",
        "id": "QDGKDw74cOet",
        "outputId": "3ff99e7e-7866-401b-f99e-c028b1cdf96b",
        "colab": {
          "base_uri": "https://localhost:8080/",
          "height": 289
        }
      },
      "source": [
        "from sklearn.model_selection import KFold\n",
        "iris = datasets.load_iris()\n",
        "X = iris.data\n",
        "y = iris.target\n",
        "kf = KFold(n_splits=2) \n",
        "kf.get_n_splits(X) \n",
        "KFold(n_splits=2, random_state=None, shuffle=False)\n",
        "\n",
        "for train_index, test_index in kf.split(X):\n",
        "   print(\"TRAIN:\", train_index, \"TEST:\", test_index)\n",
        "   X_train, X_test = X[train_index], X[test_index]\n",
        "   y_train, y_test = y[train_index], y[test_index]\n"
      ],
      "execution_count": 0,
      "outputs": [
        {
          "output_type": "stream",
          "text": [
            "TRAIN: [ 75  76  77  78  79  80  81  82  83  84  85  86  87  88  89  90  91  92\n",
            "  93  94  95  96  97  98  99 100 101 102 103 104 105 106 107 108 109 110\n",
            " 111 112 113 114 115 116 117 118 119 120 121 122 123 124 125 126 127 128\n",
            " 129 130 131 132 133 134 135 136 137 138 139 140 141 142 143 144 145 146\n",
            " 147 148 149] TEST: [ 0  1  2  3  4  5  6  7  8  9 10 11 12 13 14 15 16 17 18 19 20 21 22 23\n",
            " 24 25 26 27 28 29 30 31 32 33 34 35 36 37 38 39 40 41 42 43 44 45 46 47\n",
            " 48 49 50 51 52 53 54 55 56 57 58 59 60 61 62 63 64 65 66 67 68 69 70 71\n",
            " 72 73 74]\n",
            "TRAIN: [ 0  1  2  3  4  5  6  7  8  9 10 11 12 13 14 15 16 17 18 19 20 21 22 23\n",
            " 24 25 26 27 28 29 30 31 32 33 34 35 36 37 38 39 40 41 42 43 44 45 46 47\n",
            " 48 49 50 51 52 53 54 55 56 57 58 59 60 61 62 63 64 65 66 67 68 69 70 71\n",
            " 72 73 74] TEST: [ 75  76  77  78  79  80  81  82  83  84  85  86  87  88  89  90  91  92\n",
            "  93  94  95  96  97  98  99 100 101 102 103 104 105 106 107 108 109 110\n",
            " 111 112 113 114 115 116 117 118 119 120 121 122 123 124 125 126 127 128\n",
            " 129 130 131 132 133 134 135 136 137 138 139 140 141 142 143 144 145 146\n",
            " 147 148 149]\n"
          ],
          "name": "stdout"
        }
      ]
    },
    {
      "cell_type": "code",
      "metadata": {
        "colab_type": "code",
        "id": "AIfDiKKkKtZl",
        "colab": {}
      },
      "source": [
        ""
      ],
      "execution_count": 0,
      "outputs": []
    }
  ]
}