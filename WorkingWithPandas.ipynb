{
  "nbformat": 4,
  "nbformat_minor": 0,
  "metadata": {
    "colab": {
      "name": "WorkingWithPandas.ipynb",
      "version": "0.3.2",
      "provenance": [],
      "include_colab_link": true
    },
    "kernelspec": {
      "name": "python3",
      "display_name": "Python 3"
    }
  },
  "cells": [
    {
      "cell_type": "markdown",
      "metadata": {
        "id": "view-in-github",
        "colab_type": "text"
      },
      "source": [
        "<a href=\"https://colab.research.google.com/github/RobertsNC/Machine_Learning_Playground/blob/master/WorkingWithPandas.ipynb\" target=\"_parent\"><img src=\"https://colab.research.google.com/assets/colab-badge.svg\" alt=\"Open In Colab\"/></a>"
      ]
    },
    {
      "cell_type": "code",
      "metadata": {
        "id": "P6wxMgmIVb0t",
        "colab_type": "code",
        "colab": {}
      },
      "source": [
        "import pandas as pd"
      ],
      "execution_count": 0,
      "outputs": []
    },
    {
      "cell_type": "code",
      "metadata": {
        "id": "BqZHguCFVqFR",
        "colab_type": "code",
        "colab": {}
      },
      "source": [
        "from google.colab import files\n",
        "uploaded = files.upload()"
      ],
      "execution_count": 0,
      "outputs": []
    },
    {
      "cell_type": "code",
      "metadata": {
        "id": "hi1PcnZlXSWM",
        "colab_type": "code",
        "colab": {}
      },
      "source": [
        "reviews = pd.read_csv('ign.csv')"
      ],
      "execution_count": 0,
      "outputs": []
    },
    {
      "cell_type": "code",
      "metadata": {
        "id": "ZfHFYM9cXlHz",
        "colab_type": "code",
        "outputId": "6bb1062b-f908-4d2a-9421-b3c7b0b454ac",
        "colab": {
          "base_uri": "https://localhost:8080/",
          "height": 167
        }
      },
      "source": [
        "reivews.head()"
      ],
      "execution_count": 0,
      "outputs": [
        {
          "output_type": "error",
          "ename": "NameError",
          "evalue": "ignored",
          "traceback": [
            "\u001b[0;31m---------------------------------------------------------------------------\u001b[0m",
            "\u001b[0;31mNameError\u001b[0m                                 Traceback (most recent call last)",
            "\u001b[0;32m<ipython-input-11-c1155726e6a6>\u001b[0m in \u001b[0;36m<module>\u001b[0;34m()\u001b[0m\n\u001b[0;32m----> 1\u001b[0;31m \u001b[0mreivews\u001b[0m\u001b[0;34m.\u001b[0m\u001b[0mhead\u001b[0m\u001b[0;34m(\u001b[0m\u001b[0;34m)\u001b[0m\u001b[0;34m\u001b[0m\u001b[0;34m\u001b[0m\u001b[0m\n\u001b[0m",
            "\u001b[0;31mNameError\u001b[0m: name 'reivews' is not defined"
          ]
        }
      ]
    },
    {
      "cell_type": "code",
      "metadata": {
        "id": "XsHre0loYJF6",
        "colab_type": "code",
        "outputId": "2d8ce106-964e-4a80-a957-b2ad1e514af2",
        "colab": {
          "base_uri": "https://localhost:8080/",
          "height": 1137
        }
      },
      "source": [
        "reviews.head"
      ],
      "execution_count": 0,
      "outputs": [
        {
          "output_type": "execute_result",
          "data": {
            "text/plain": [
              "<bound method NDFrame.head of        Unnamed: 0 score_phrase  ... release_month release_day\n",
              "0               0      Amazing  ...             9          12\n",
              "1               1      Amazing  ...             9          12\n",
              "2               2        Great  ...             9          12\n",
              "3               3        Great  ...             9          11\n",
              "4               4        Great  ...             9          11\n",
              "5               5         Good  ...             9          11\n",
              "6               6        Awful  ...             9          11\n",
              "7               7      Amazing  ...             9          11\n",
              "8               8        Awful  ...             9          11\n",
              "9               9         Good  ...             9          11\n",
              "10             10         Good  ...             9          11\n",
              "11             11         Good  ...             9          11\n",
              "12             12         Good  ...             9          10\n",
              "13             13      Amazing  ...             9           7\n",
              "14             14      Amazing  ...             9           7\n",
              "15             15         Okay  ...             9           6\n",
              "16             16         Okay  ...             9           6\n",
              "17             17        Great  ...             9           5\n",
              "18             18     Mediocre  ...             9           3\n",
              "19             19         Good  ...             9           3\n",
              "20             20         Good  ...             9           3\n",
              "21             21         Good  ...             8          31\n",
              "22             22         Good  ...             8          31\n",
              "23             23         Good  ...             8          31\n",
              "24             24      Amazing  ...             8          31\n",
              "25             25         Good  ...             8          30\n",
              "26             26      Amazing  ...             8          30\n",
              "27             27         Good  ...             8          29\n",
              "28             28        Great  ...             8          29\n",
              "29             29         Okay  ...             8          28\n",
              "...           ...          ...  ...           ...         ...\n",
              "18595       18595          Bad  ...             7          16\n",
              "18596       18596         Okay  ...             7          14\n",
              "18597       18597          Bad  ...             7          13\n",
              "18598       18598         Okay  ...             7          13\n",
              "18599       18599         Good  ...             7          13\n",
              "18600       18600         Good  ...             8          19\n",
              "18601       18601         Good  ...             8          19\n",
              "18602       18602         Good  ...             8          19\n",
              "18603       18603         Good  ...             8          18\n",
              "18604       18604        Great  ...             8          17\n",
              "18605       18605         Okay  ...             8          16\n",
              "18606       18606         Okay  ...             8           4\n",
              "18607       18607         Good  ...             7          13\n",
              "18608       18608     Mediocre  ...             7          13\n",
              "18609       18609        Great  ...             7          12\n",
              "18610       18610         Okay  ...             7          12\n",
              "18611       18611     Mediocre  ...             7           6\n",
              "18612       18612         Good  ...             7           6\n",
              "18613       18613        Great  ...             7           1\n",
              "18614       18614      Amazing  ...             6          29\n",
              "18615       18615      Amazing  ...             6          29\n",
              "18616       18616         Good  ...             8           2\n",
              "18617       18617        Great  ...             8           2\n",
              "18618       18618      Amazing  ...             7          28\n",
              "18619       18619         Good  ...             7          28\n",
              "18620       18620         Good  ...             6          29\n",
              "18621       18621      Amazing  ...             6          29\n",
              "18622       18622     Mediocre  ...             6          28\n",
              "18623       18623  Masterpiece  ...             6          28\n",
              "18624       18624  Masterpiece  ...             6          28\n",
              "\n",
              "[18625 rows x 11 columns]>"
            ]
          },
          "metadata": {
            "tags": []
          },
          "execution_count": 12
        }
      ]
    },
    {
      "cell_type": "code",
      "metadata": {
        "id": "iQuzRFc8YKml",
        "colab_type": "code",
        "outputId": "fc356b7d-357d-4306-f235-a182c9699283",
        "colab": {
          "base_uri": "https://localhost:8080/",
          "height": 34
        }
      },
      "source": [
        "reviews.shape"
      ],
      "execution_count": 0,
      "outputs": [
        {
          "output_type": "execute_result",
          "data": {
            "text/plain": [
              "(18625, 11)"
            ]
          },
          "metadata": {
            "tags": []
          },
          "execution_count": 13
        }
      ]
    },
    {
      "cell_type": "code",
      "metadata": {
        "id": "65FTuaYpYQ07",
        "colab_type": "code",
        "outputId": "f2c02086-c792-4692-c152-10e138cbb742",
        "colab": {
          "base_uri": "https://localhost:8080/",
          "height": 360
        }
      },
      "source": [
        "reviews.iloc[0:5,:]"
      ],
      "execution_count": 0,
      "outputs": [
        {
          "output_type": "execute_result",
          "data": {
            "text/html": [
              "<div>\n",
              "<style scoped>\n",
              "    .dataframe tbody tr th:only-of-type {\n",
              "        vertical-align: middle;\n",
              "    }\n",
              "\n",
              "    .dataframe tbody tr th {\n",
              "        vertical-align: top;\n",
              "    }\n",
              "\n",
              "    .dataframe thead th {\n",
              "        text-align: right;\n",
              "    }\n",
              "</style>\n",
              "<table border=\"1\" class=\"dataframe\">\n",
              "  <thead>\n",
              "    <tr style=\"text-align: right;\">\n",
              "      <th></th>\n",
              "      <th>Unnamed: 0</th>\n",
              "      <th>score_phrase</th>\n",
              "      <th>title</th>\n",
              "      <th>url</th>\n",
              "      <th>platform</th>\n",
              "      <th>score</th>\n",
              "      <th>genre</th>\n",
              "      <th>editors_choice</th>\n",
              "      <th>release_year</th>\n",
              "      <th>release_month</th>\n",
              "      <th>release_day</th>\n",
              "    </tr>\n",
              "  </thead>\n",
              "  <tbody>\n",
              "    <tr>\n",
              "      <th>0</th>\n",
              "      <td>0</td>\n",
              "      <td>Amazing</td>\n",
              "      <td>LittleBigPlanet PS Vita</td>\n",
              "      <td>/games/littlebigplanet-vita/vita-98907</td>\n",
              "      <td>PlayStation Vita</td>\n",
              "      <td>9.0</td>\n",
              "      <td>Platformer</td>\n",
              "      <td>Y</td>\n",
              "      <td>2012</td>\n",
              "      <td>9</td>\n",
              "      <td>12</td>\n",
              "    </tr>\n",
              "    <tr>\n",
              "      <th>1</th>\n",
              "      <td>1</td>\n",
              "      <td>Amazing</td>\n",
              "      <td>LittleBigPlanet PS Vita -- Marvel Super Hero E...</td>\n",
              "      <td>/games/littlebigplanet-ps-vita-marvel-super-he...</td>\n",
              "      <td>PlayStation Vita</td>\n",
              "      <td>9.0</td>\n",
              "      <td>Platformer</td>\n",
              "      <td>Y</td>\n",
              "      <td>2012</td>\n",
              "      <td>9</td>\n",
              "      <td>12</td>\n",
              "    </tr>\n",
              "    <tr>\n",
              "      <th>2</th>\n",
              "      <td>2</td>\n",
              "      <td>Great</td>\n",
              "      <td>Splice: Tree of Life</td>\n",
              "      <td>/games/splice/ipad-141070</td>\n",
              "      <td>iPad</td>\n",
              "      <td>8.5</td>\n",
              "      <td>Puzzle</td>\n",
              "      <td>N</td>\n",
              "      <td>2012</td>\n",
              "      <td>9</td>\n",
              "      <td>12</td>\n",
              "    </tr>\n",
              "    <tr>\n",
              "      <th>3</th>\n",
              "      <td>3</td>\n",
              "      <td>Great</td>\n",
              "      <td>NHL 13</td>\n",
              "      <td>/games/nhl-13/xbox-360-128182</td>\n",
              "      <td>Xbox 360</td>\n",
              "      <td>8.5</td>\n",
              "      <td>Sports</td>\n",
              "      <td>N</td>\n",
              "      <td>2012</td>\n",
              "      <td>9</td>\n",
              "      <td>11</td>\n",
              "    </tr>\n",
              "    <tr>\n",
              "      <th>4</th>\n",
              "      <td>4</td>\n",
              "      <td>Great</td>\n",
              "      <td>NHL 13</td>\n",
              "      <td>/games/nhl-13/ps3-128181</td>\n",
              "      <td>PlayStation 3</td>\n",
              "      <td>8.5</td>\n",
              "      <td>Sports</td>\n",
              "      <td>N</td>\n",
              "      <td>2012</td>\n",
              "      <td>9</td>\n",
              "      <td>11</td>\n",
              "    </tr>\n",
              "  </tbody>\n",
              "</table>\n",
              "</div>"
            ],
            "text/plain": [
              "   Unnamed: 0 score_phrase  ... release_month release_day\n",
              "0           0      Amazing  ...             9          12\n",
              "1           1      Amazing  ...             9          12\n",
              "2           2        Great  ...             9          12\n",
              "3           3        Great  ...             9          11\n",
              "4           4        Great  ...             9          11\n",
              "\n",
              "[5 rows x 11 columns]"
            ]
          },
          "metadata": {
            "tags": []
          },
          "execution_count": 14
        }
      ]
    },
    {
      "cell_type": "code",
      "metadata": {
        "id": "9aN6C9aAYzqU",
        "colab_type": "code",
        "outputId": "b274d0b7-6a1e-49fe-bc06-0340be920fa6",
        "colab": {
          "base_uri": "https://localhost:8080/",
          "height": 343
        }
      },
      "source": [
        "reviews = reviews.iloc[:,1:]\n",
        "reviews.head()"
      ],
      "execution_count": 0,
      "outputs": [
        {
          "output_type": "execute_result",
          "data": {
            "text/html": [
              "<div>\n",
              "<style scoped>\n",
              "    .dataframe tbody tr th:only-of-type {\n",
              "        vertical-align: middle;\n",
              "    }\n",
              "\n",
              "    .dataframe tbody tr th {\n",
              "        vertical-align: top;\n",
              "    }\n",
              "\n",
              "    .dataframe thead th {\n",
              "        text-align: right;\n",
              "    }\n",
              "</style>\n",
              "<table border=\"1\" class=\"dataframe\">\n",
              "  <thead>\n",
              "    <tr style=\"text-align: right;\">\n",
              "      <th></th>\n",
              "      <th>score_phrase</th>\n",
              "      <th>title</th>\n",
              "      <th>url</th>\n",
              "      <th>platform</th>\n",
              "      <th>score</th>\n",
              "      <th>genre</th>\n",
              "      <th>editors_choice</th>\n",
              "      <th>release_year</th>\n",
              "      <th>release_month</th>\n",
              "      <th>release_day</th>\n",
              "    </tr>\n",
              "  </thead>\n",
              "  <tbody>\n",
              "    <tr>\n",
              "      <th>0</th>\n",
              "      <td>Amazing</td>\n",
              "      <td>LittleBigPlanet PS Vita</td>\n",
              "      <td>/games/littlebigplanet-vita/vita-98907</td>\n",
              "      <td>PlayStation Vita</td>\n",
              "      <td>9.0</td>\n",
              "      <td>Platformer</td>\n",
              "      <td>Y</td>\n",
              "      <td>2012</td>\n",
              "      <td>9</td>\n",
              "      <td>12</td>\n",
              "    </tr>\n",
              "    <tr>\n",
              "      <th>1</th>\n",
              "      <td>Amazing</td>\n",
              "      <td>LittleBigPlanet PS Vita -- Marvel Super Hero E...</td>\n",
              "      <td>/games/littlebigplanet-ps-vita-marvel-super-he...</td>\n",
              "      <td>PlayStation Vita</td>\n",
              "      <td>9.0</td>\n",
              "      <td>Platformer</td>\n",
              "      <td>Y</td>\n",
              "      <td>2012</td>\n",
              "      <td>9</td>\n",
              "      <td>12</td>\n",
              "    </tr>\n",
              "    <tr>\n",
              "      <th>2</th>\n",
              "      <td>Great</td>\n",
              "      <td>Splice: Tree of Life</td>\n",
              "      <td>/games/splice/ipad-141070</td>\n",
              "      <td>iPad</td>\n",
              "      <td>8.5</td>\n",
              "      <td>Puzzle</td>\n",
              "      <td>N</td>\n",
              "      <td>2012</td>\n",
              "      <td>9</td>\n",
              "      <td>12</td>\n",
              "    </tr>\n",
              "    <tr>\n",
              "      <th>3</th>\n",
              "      <td>Great</td>\n",
              "      <td>NHL 13</td>\n",
              "      <td>/games/nhl-13/xbox-360-128182</td>\n",
              "      <td>Xbox 360</td>\n",
              "      <td>8.5</td>\n",
              "      <td>Sports</td>\n",
              "      <td>N</td>\n",
              "      <td>2012</td>\n",
              "      <td>9</td>\n",
              "      <td>11</td>\n",
              "    </tr>\n",
              "    <tr>\n",
              "      <th>4</th>\n",
              "      <td>Great</td>\n",
              "      <td>NHL 13</td>\n",
              "      <td>/games/nhl-13/ps3-128181</td>\n",
              "      <td>PlayStation 3</td>\n",
              "      <td>8.5</td>\n",
              "      <td>Sports</td>\n",
              "      <td>N</td>\n",
              "      <td>2012</td>\n",
              "      <td>9</td>\n",
              "      <td>11</td>\n",
              "    </tr>\n",
              "  </tbody>\n",
              "</table>\n",
              "</div>"
            ],
            "text/plain": [
              "  score_phrase  ... release_day\n",
              "0      Amazing  ...          12\n",
              "1      Amazing  ...          12\n",
              "2        Great  ...          12\n",
              "3        Great  ...          11\n",
              "4        Great  ...          11\n",
              "\n",
              "[5 rows x 10 columns]"
            ]
          },
          "metadata": {
            "tags": []
          },
          "execution_count": 15
        }
      ]
    },
    {
      "cell_type": "code",
      "metadata": {
        "id": "JjwcdhRoZBzp",
        "colab_type": "code",
        "outputId": "7a229c6d-164a-4f2a-dd0f-e4a6cf44c1e8",
        "colab": {
          "base_uri": "https://localhost:8080/",
          "height": 34
        }
      },
      "source": [
        "reviews.index"
      ],
      "execution_count": 0,
      "outputs": [
        {
          "output_type": "execute_result",
          "data": {
            "text/plain": [
              "RangeIndex(start=0, stop=18625, step=1)"
            ]
          },
          "metadata": {
            "tags": []
          },
          "execution_count": 16
        }
      ]
    },
    {
      "cell_type": "code",
      "metadata": {
        "id": "jAPDcJQqbwqc",
        "colab_type": "code",
        "colab": {}
      },
      "source": [
        "Int64Index([0, 1, 2, 3, 4, 5, 6, 7, 8, 9, 10, 11, 12, 13, 14, 15, 16, 17, 18, 19, 20, 21, 22, 23, 24, 25, 26, 27, 28, 29, 30, 31, 32, 33, 34, 35, 36, 37, 38, 39, 40, 41, 42, 43, 44, 45, 46, 47, 48, 49, 50, 51, 52, 53, 54, 55, 56, 57, 58, 59, 60, 61, 62, 63, 64, 65, 66, 67, 68, 69, 70, 71, 72, 73, 74, 75, 76, 77, 78, 79, 80, 81, 82, 83, 84, 85, 86, 87, 88, 89, 90, 91, 92, 93, 94, 95, 96, 97, 98, 99, ...], dtype='int64')\n"
      ],
      "execution_count": 0,
      "outputs": []
    },
    {
      "cell_type": "code",
      "metadata": {
        "id": "LuLbpgMtb2AA",
        "colab_type": "code",
        "outputId": "0b79b3eb-2511-4d22-e3bf-491e9063b0a4",
        "colab": {
          "base_uri": "https://localhost:8080/",
          "height": 479
        }
      },
      "source": [
        "some_reviews = reviews.iloc[10:20,]\n",
        "some_reviews.head()"
      ],
      "execution_count": 0,
      "outputs": [
        {
          "output_type": "execute_result",
          "data": {
            "text/html": [
              "<div>\n",
              "<style scoped>\n",
              "    .dataframe tbody tr th:only-of-type {\n",
              "        vertical-align: middle;\n",
              "    }\n",
              "\n",
              "    .dataframe tbody tr th {\n",
              "        vertical-align: top;\n",
              "    }\n",
              "\n",
              "    .dataframe thead th {\n",
              "        text-align: right;\n",
              "    }\n",
              "</style>\n",
              "<table border=\"1\" class=\"dataframe\">\n",
              "  <thead>\n",
              "    <tr style=\"text-align: right;\">\n",
              "      <th></th>\n",
              "      <th>score_phrase</th>\n",
              "      <th>title</th>\n",
              "      <th>url</th>\n",
              "      <th>platform</th>\n",
              "      <th>score</th>\n",
              "      <th>genre</th>\n",
              "      <th>editors_choice</th>\n",
              "      <th>release_year</th>\n",
              "      <th>release_month</th>\n",
              "      <th>release_day</th>\n",
              "    </tr>\n",
              "  </thead>\n",
              "  <tbody>\n",
              "    <tr>\n",
              "      <th>10</th>\n",
              "      <td>Good</td>\n",
              "      <td>Tekken Tag Tournament 2</td>\n",
              "      <td>/games/tekken-tag-tournament-2/ps3-124584</td>\n",
              "      <td>PlayStation 3</td>\n",
              "      <td>7.5</td>\n",
              "      <td>Fighting</td>\n",
              "      <td>N</td>\n",
              "      <td>2012</td>\n",
              "      <td>9</td>\n",
              "      <td>11</td>\n",
              "    </tr>\n",
              "    <tr>\n",
              "      <th>11</th>\n",
              "      <td>Good</td>\n",
              "      <td>Tekken Tag Tournament 2</td>\n",
              "      <td>/games/tekken-tag-tournament-2/xbox-360-124581</td>\n",
              "      <td>Xbox 360</td>\n",
              "      <td>7.5</td>\n",
              "      <td>Fighting</td>\n",
              "      <td>N</td>\n",
              "      <td>2012</td>\n",
              "      <td>9</td>\n",
              "      <td>11</td>\n",
              "    </tr>\n",
              "    <tr>\n",
              "      <th>12</th>\n",
              "      <td>Good</td>\n",
              "      <td>Wild Blood</td>\n",
              "      <td>/games/wild-blood/iphone-139363</td>\n",
              "      <td>iPhone</td>\n",
              "      <td>7.0</td>\n",
              "      <td>NaN</td>\n",
              "      <td>N</td>\n",
              "      <td>2012</td>\n",
              "      <td>9</td>\n",
              "      <td>10</td>\n",
              "    </tr>\n",
              "    <tr>\n",
              "      <th>13</th>\n",
              "      <td>Amazing</td>\n",
              "      <td>Mark of the Ninja</td>\n",
              "      <td>/games/mark-of-the-ninja-135615/xbox-360-129276</td>\n",
              "      <td>Xbox 360</td>\n",
              "      <td>9.0</td>\n",
              "      <td>Action, Adventure</td>\n",
              "      <td>Y</td>\n",
              "      <td>2012</td>\n",
              "      <td>9</td>\n",
              "      <td>7</td>\n",
              "    </tr>\n",
              "    <tr>\n",
              "      <th>14</th>\n",
              "      <td>Amazing</td>\n",
              "      <td>Mark of the Ninja</td>\n",
              "      <td>/games/mark-of-the-ninja-135615/pc-143761</td>\n",
              "      <td>PC</td>\n",
              "      <td>9.0</td>\n",
              "      <td>Action, Adventure</td>\n",
              "      <td>Y</td>\n",
              "      <td>2012</td>\n",
              "      <td>9</td>\n",
              "      <td>7</td>\n",
              "    </tr>\n",
              "  </tbody>\n",
              "</table>\n",
              "</div>"
            ],
            "text/plain": [
              "   score_phrase                    title  ... release_month release_day\n",
              "10         Good  Tekken Tag Tournament 2  ...             9          11\n",
              "11         Good  Tekken Tag Tournament 2  ...             9          11\n",
              "12         Good               Wild Blood  ...             9          10\n",
              "13      Amazing        Mark of the Ninja  ...             9           7\n",
              "14      Amazing        Mark of the Ninja  ...             9           7\n",
              "\n",
              "[5 rows x 10 columns]"
            ]
          },
          "metadata": {
            "tags": []
          },
          "execution_count": 18
        }
      ]
    },
    {
      "cell_type": "code",
      "metadata": {
        "id": "JNCanIQ_cDQD",
        "colab_type": "code",
        "outputId": "8e17bf9f-2641-41c3-f263-8b39104d6fc4",
        "colab": {
          "base_uri": "https://localhost:8080/",
          "height": 139
        }
      },
      "source": [
        "reviews.loc[:5,'score']"
      ],
      "execution_count": 0,
      "outputs": [
        {
          "output_type": "execute_result",
          "data": {
            "text/plain": [
              "0    9.0\n",
              "1    9.0\n",
              "2    8.5\n",
              "3    8.5\n",
              "4    8.5\n",
              "5    7.0\n",
              "Name: score, dtype: float64"
            ]
          },
          "metadata": {
            "tags": []
          },
          "execution_count": 20
        }
      ]
    },
    {
      "cell_type": "code",
      "metadata": {
        "id": "AYJ0d0GvcR4L",
        "colab_type": "code",
        "outputId": "0022d316-004c-40c0-b2ab-35615cf56a7c",
        "colab": {
          "base_uri": "https://localhost:8080/",
          "height": 235
        }
      },
      "source": [
        "reviews.loc[:5,['score', 'release_year']]"
      ],
      "execution_count": 0,
      "outputs": [
        {
          "output_type": "execute_result",
          "data": {
            "text/html": [
              "<div>\n",
              "<style scoped>\n",
              "    .dataframe tbody tr th:only-of-type {\n",
              "        vertical-align: middle;\n",
              "    }\n",
              "\n",
              "    .dataframe tbody tr th {\n",
              "        vertical-align: top;\n",
              "    }\n",
              "\n",
              "    .dataframe thead th {\n",
              "        text-align: right;\n",
              "    }\n",
              "</style>\n",
              "<table border=\"1\" class=\"dataframe\">\n",
              "  <thead>\n",
              "    <tr style=\"text-align: right;\">\n",
              "      <th></th>\n",
              "      <th>score</th>\n",
              "      <th>release_year</th>\n",
              "    </tr>\n",
              "  </thead>\n",
              "  <tbody>\n",
              "    <tr>\n",
              "      <th>0</th>\n",
              "      <td>9.0</td>\n",
              "      <td>2012</td>\n",
              "    </tr>\n",
              "    <tr>\n",
              "      <th>1</th>\n",
              "      <td>9.0</td>\n",
              "      <td>2012</td>\n",
              "    </tr>\n",
              "    <tr>\n",
              "      <th>2</th>\n",
              "      <td>8.5</td>\n",
              "      <td>2012</td>\n",
              "    </tr>\n",
              "    <tr>\n",
              "      <th>3</th>\n",
              "      <td>8.5</td>\n",
              "      <td>2012</td>\n",
              "    </tr>\n",
              "    <tr>\n",
              "      <th>4</th>\n",
              "      <td>8.5</td>\n",
              "      <td>2012</td>\n",
              "    </tr>\n",
              "    <tr>\n",
              "      <th>5</th>\n",
              "      <td>7.0</td>\n",
              "      <td>2012</td>\n",
              "    </tr>\n",
              "  </tbody>\n",
              "</table>\n",
              "</div>"
            ],
            "text/plain": [
              "   score  release_year\n",
              "0    9.0          2012\n",
              "1    9.0          2012\n",
              "2    8.5          2012\n",
              "3    8.5          2012\n",
              "4    8.5          2012\n",
              "5    7.0          2012"
            ]
          },
          "metadata": {
            "tags": []
          },
          "execution_count": 22
        }
      ]
    },
    {
      "cell_type": "code",
      "metadata": {
        "id": "QJ3hThoMcflw",
        "colab_type": "code",
        "outputId": "da430119-14c0-44d6-b173-868444bd883e",
        "colab": {
          "base_uri": "https://localhost:8080/",
          "height": 1102
        }
      },
      "source": [
        "reviews['score']"
      ],
      "execution_count": 0,
      "outputs": [
        {
          "output_type": "execute_result",
          "data": {
            "text/plain": [
              "0         9.0\n",
              "1         9.0\n",
              "2         8.5\n",
              "3         8.5\n",
              "4         8.5\n",
              "5         7.0\n",
              "6         3.0\n",
              "7         9.0\n",
              "8         3.0\n",
              "9         7.0\n",
              "10        7.5\n",
              "11        7.5\n",
              "12        7.0\n",
              "13        9.0\n",
              "14        9.0\n",
              "15        6.5\n",
              "16        6.5\n",
              "17        8.0\n",
              "18        5.5\n",
              "19        7.0\n",
              "20        7.0\n",
              "21        7.5\n",
              "22        7.5\n",
              "23        7.5\n",
              "24        9.0\n",
              "25        7.0\n",
              "26        9.0\n",
              "27        7.5\n",
              "28        8.0\n",
              "29        6.5\n",
              "         ... \n",
              "18595     4.4\n",
              "18596     6.5\n",
              "18597     4.9\n",
              "18598     6.8\n",
              "18599     7.0\n",
              "18600     7.4\n",
              "18601     7.4\n",
              "18602     7.4\n",
              "18603     7.8\n",
              "18604     8.6\n",
              "18605     6.0\n",
              "18606     6.4\n",
              "18607     7.0\n",
              "18608     5.4\n",
              "18609     8.0\n",
              "18610     6.0\n",
              "18611     5.8\n",
              "18612     7.8\n",
              "18613     8.0\n",
              "18614     9.2\n",
              "18615     9.2\n",
              "18616     7.5\n",
              "18617     8.4\n",
              "18618     9.1\n",
              "18619     7.9\n",
              "18620     7.6\n",
              "18621     9.0\n",
              "18622     5.8\n",
              "18623    10.0\n",
              "18624    10.0\n",
              "Name: score, Length: 18625, dtype: float64"
            ]
          },
          "metadata": {
            "tags": []
          },
          "execution_count": 23
        }
      ]
    },
    {
      "cell_type": "code",
      "metadata": {
        "id": "Gc6qNy0ldwkR",
        "colab_type": "code",
        "outputId": "3279bcc2-5423-4efc-88db-b516818a9a0a",
        "colab": {
          "base_uri": "https://localhost:8080/",
          "height": 1969
        }
      },
      "source": [
        "reviews[['score','release_year']]"
      ],
      "execution_count": 0,
      "outputs": [
        {
          "output_type": "execute_result",
          "data": {
            "text/html": [
              "<div>\n",
              "<style scoped>\n",
              "    .dataframe tbody tr th:only-of-type {\n",
              "        vertical-align: middle;\n",
              "    }\n",
              "\n",
              "    .dataframe tbody tr th {\n",
              "        vertical-align: top;\n",
              "    }\n",
              "\n",
              "    .dataframe thead th {\n",
              "        text-align: right;\n",
              "    }\n",
              "</style>\n",
              "<table border=\"1\" class=\"dataframe\">\n",
              "  <thead>\n",
              "    <tr style=\"text-align: right;\">\n",
              "      <th></th>\n",
              "      <th>score</th>\n",
              "      <th>release_year</th>\n",
              "    </tr>\n",
              "  </thead>\n",
              "  <tbody>\n",
              "    <tr>\n",
              "      <th>0</th>\n",
              "      <td>9.0</td>\n",
              "      <td>2012</td>\n",
              "    </tr>\n",
              "    <tr>\n",
              "      <th>1</th>\n",
              "      <td>9.0</td>\n",
              "      <td>2012</td>\n",
              "    </tr>\n",
              "    <tr>\n",
              "      <th>2</th>\n",
              "      <td>8.5</td>\n",
              "      <td>2012</td>\n",
              "    </tr>\n",
              "    <tr>\n",
              "      <th>3</th>\n",
              "      <td>8.5</td>\n",
              "      <td>2012</td>\n",
              "    </tr>\n",
              "    <tr>\n",
              "      <th>4</th>\n",
              "      <td>8.5</td>\n",
              "      <td>2012</td>\n",
              "    </tr>\n",
              "    <tr>\n",
              "      <th>5</th>\n",
              "      <td>7.0</td>\n",
              "      <td>2012</td>\n",
              "    </tr>\n",
              "    <tr>\n",
              "      <th>6</th>\n",
              "      <td>3.0</td>\n",
              "      <td>2012</td>\n",
              "    </tr>\n",
              "    <tr>\n",
              "      <th>7</th>\n",
              "      <td>9.0</td>\n",
              "      <td>2012</td>\n",
              "    </tr>\n",
              "    <tr>\n",
              "      <th>8</th>\n",
              "      <td>3.0</td>\n",
              "      <td>2012</td>\n",
              "    </tr>\n",
              "    <tr>\n",
              "      <th>9</th>\n",
              "      <td>7.0</td>\n",
              "      <td>2012</td>\n",
              "    </tr>\n",
              "    <tr>\n",
              "      <th>10</th>\n",
              "      <td>7.5</td>\n",
              "      <td>2012</td>\n",
              "    </tr>\n",
              "    <tr>\n",
              "      <th>11</th>\n",
              "      <td>7.5</td>\n",
              "      <td>2012</td>\n",
              "    </tr>\n",
              "    <tr>\n",
              "      <th>12</th>\n",
              "      <td>7.0</td>\n",
              "      <td>2012</td>\n",
              "    </tr>\n",
              "    <tr>\n",
              "      <th>13</th>\n",
              "      <td>9.0</td>\n",
              "      <td>2012</td>\n",
              "    </tr>\n",
              "    <tr>\n",
              "      <th>14</th>\n",
              "      <td>9.0</td>\n",
              "      <td>2012</td>\n",
              "    </tr>\n",
              "    <tr>\n",
              "      <th>15</th>\n",
              "      <td>6.5</td>\n",
              "      <td>2012</td>\n",
              "    </tr>\n",
              "    <tr>\n",
              "      <th>16</th>\n",
              "      <td>6.5</td>\n",
              "      <td>2012</td>\n",
              "    </tr>\n",
              "    <tr>\n",
              "      <th>17</th>\n",
              "      <td>8.0</td>\n",
              "      <td>2012</td>\n",
              "    </tr>\n",
              "    <tr>\n",
              "      <th>18</th>\n",
              "      <td>5.5</td>\n",
              "      <td>2012</td>\n",
              "    </tr>\n",
              "    <tr>\n",
              "      <th>19</th>\n",
              "      <td>7.0</td>\n",
              "      <td>2012</td>\n",
              "    </tr>\n",
              "    <tr>\n",
              "      <th>20</th>\n",
              "      <td>7.0</td>\n",
              "      <td>2012</td>\n",
              "    </tr>\n",
              "    <tr>\n",
              "      <th>21</th>\n",
              "      <td>7.5</td>\n",
              "      <td>2012</td>\n",
              "    </tr>\n",
              "    <tr>\n",
              "      <th>22</th>\n",
              "      <td>7.5</td>\n",
              "      <td>2012</td>\n",
              "    </tr>\n",
              "    <tr>\n",
              "      <th>23</th>\n",
              "      <td>7.5</td>\n",
              "      <td>2012</td>\n",
              "    </tr>\n",
              "    <tr>\n",
              "      <th>24</th>\n",
              "      <td>9.0</td>\n",
              "      <td>2012</td>\n",
              "    </tr>\n",
              "    <tr>\n",
              "      <th>25</th>\n",
              "      <td>7.0</td>\n",
              "      <td>2012</td>\n",
              "    </tr>\n",
              "    <tr>\n",
              "      <th>26</th>\n",
              "      <td>9.0</td>\n",
              "      <td>2012</td>\n",
              "    </tr>\n",
              "    <tr>\n",
              "      <th>27</th>\n",
              "      <td>7.5</td>\n",
              "      <td>2012</td>\n",
              "    </tr>\n",
              "    <tr>\n",
              "      <th>28</th>\n",
              "      <td>8.0</td>\n",
              "      <td>2012</td>\n",
              "    </tr>\n",
              "    <tr>\n",
              "      <th>29</th>\n",
              "      <td>6.5</td>\n",
              "      <td>2012</td>\n",
              "    </tr>\n",
              "    <tr>\n",
              "      <th>...</th>\n",
              "      <td>...</td>\n",
              "      <td>...</td>\n",
              "    </tr>\n",
              "    <tr>\n",
              "      <th>18595</th>\n",
              "      <td>4.4</td>\n",
              "      <td>2016</td>\n",
              "    </tr>\n",
              "    <tr>\n",
              "      <th>18596</th>\n",
              "      <td>6.5</td>\n",
              "      <td>2016</td>\n",
              "    </tr>\n",
              "    <tr>\n",
              "      <th>18597</th>\n",
              "      <td>4.9</td>\n",
              "      <td>2016</td>\n",
              "    </tr>\n",
              "    <tr>\n",
              "      <th>18598</th>\n",
              "      <td>6.8</td>\n",
              "      <td>2016</td>\n",
              "    </tr>\n",
              "    <tr>\n",
              "      <th>18599</th>\n",
              "      <td>7.0</td>\n",
              "      <td>2016</td>\n",
              "    </tr>\n",
              "    <tr>\n",
              "      <th>18600</th>\n",
              "      <td>7.4</td>\n",
              "      <td>2016</td>\n",
              "    </tr>\n",
              "    <tr>\n",
              "      <th>18601</th>\n",
              "      <td>7.4</td>\n",
              "      <td>2016</td>\n",
              "    </tr>\n",
              "    <tr>\n",
              "      <th>18602</th>\n",
              "      <td>7.4</td>\n",
              "      <td>2016</td>\n",
              "    </tr>\n",
              "    <tr>\n",
              "      <th>18603</th>\n",
              "      <td>7.8</td>\n",
              "      <td>2016</td>\n",
              "    </tr>\n",
              "    <tr>\n",
              "      <th>18604</th>\n",
              "      <td>8.6</td>\n",
              "      <td>2016</td>\n",
              "    </tr>\n",
              "    <tr>\n",
              "      <th>18605</th>\n",
              "      <td>6.0</td>\n",
              "      <td>2016</td>\n",
              "    </tr>\n",
              "    <tr>\n",
              "      <th>18606</th>\n",
              "      <td>6.4</td>\n",
              "      <td>2016</td>\n",
              "    </tr>\n",
              "    <tr>\n",
              "      <th>18607</th>\n",
              "      <td>7.0</td>\n",
              "      <td>2016</td>\n",
              "    </tr>\n",
              "    <tr>\n",
              "      <th>18608</th>\n",
              "      <td>5.4</td>\n",
              "      <td>2016</td>\n",
              "    </tr>\n",
              "    <tr>\n",
              "      <th>18609</th>\n",
              "      <td>8.0</td>\n",
              "      <td>2016</td>\n",
              "    </tr>\n",
              "    <tr>\n",
              "      <th>18610</th>\n",
              "      <td>6.0</td>\n",
              "      <td>2016</td>\n",
              "    </tr>\n",
              "    <tr>\n",
              "      <th>18611</th>\n",
              "      <td>5.8</td>\n",
              "      <td>2016</td>\n",
              "    </tr>\n",
              "    <tr>\n",
              "      <th>18612</th>\n",
              "      <td>7.8</td>\n",
              "      <td>2016</td>\n",
              "    </tr>\n",
              "    <tr>\n",
              "      <th>18613</th>\n",
              "      <td>8.0</td>\n",
              "      <td>2016</td>\n",
              "    </tr>\n",
              "    <tr>\n",
              "      <th>18614</th>\n",
              "      <td>9.2</td>\n",
              "      <td>2016</td>\n",
              "    </tr>\n",
              "    <tr>\n",
              "      <th>18615</th>\n",
              "      <td>9.2</td>\n",
              "      <td>2016</td>\n",
              "    </tr>\n",
              "    <tr>\n",
              "      <th>18616</th>\n",
              "      <td>7.5</td>\n",
              "      <td>2016</td>\n",
              "    </tr>\n",
              "    <tr>\n",
              "      <th>18617</th>\n",
              "      <td>8.4</td>\n",
              "      <td>2016</td>\n",
              "    </tr>\n",
              "    <tr>\n",
              "      <th>18618</th>\n",
              "      <td>9.1</td>\n",
              "      <td>2016</td>\n",
              "    </tr>\n",
              "    <tr>\n",
              "      <th>18619</th>\n",
              "      <td>7.9</td>\n",
              "      <td>2016</td>\n",
              "    </tr>\n",
              "    <tr>\n",
              "      <th>18620</th>\n",
              "      <td>7.6</td>\n",
              "      <td>2016</td>\n",
              "    </tr>\n",
              "    <tr>\n",
              "      <th>18621</th>\n",
              "      <td>9.0</td>\n",
              "      <td>2016</td>\n",
              "    </tr>\n",
              "    <tr>\n",
              "      <th>18622</th>\n",
              "      <td>5.8</td>\n",
              "      <td>2016</td>\n",
              "    </tr>\n",
              "    <tr>\n",
              "      <th>18623</th>\n",
              "      <td>10.0</td>\n",
              "      <td>2016</td>\n",
              "    </tr>\n",
              "    <tr>\n",
              "      <th>18624</th>\n",
              "      <td>10.0</td>\n",
              "      <td>2016</td>\n",
              "    </tr>\n",
              "  </tbody>\n",
              "</table>\n",
              "<p>18625 rows × 2 columns</p>\n",
              "</div>"
            ],
            "text/plain": [
              "       score  release_year\n",
              "0        9.0          2012\n",
              "1        9.0          2012\n",
              "2        8.5          2012\n",
              "3        8.5          2012\n",
              "4        8.5          2012\n",
              "5        7.0          2012\n",
              "6        3.0          2012\n",
              "7        9.0          2012\n",
              "8        3.0          2012\n",
              "9        7.0          2012\n",
              "10       7.5          2012\n",
              "11       7.5          2012\n",
              "12       7.0          2012\n",
              "13       9.0          2012\n",
              "14       9.0          2012\n",
              "15       6.5          2012\n",
              "16       6.5          2012\n",
              "17       8.0          2012\n",
              "18       5.5          2012\n",
              "19       7.0          2012\n",
              "20       7.0          2012\n",
              "21       7.5          2012\n",
              "22       7.5          2012\n",
              "23       7.5          2012\n",
              "24       9.0          2012\n",
              "25       7.0          2012\n",
              "26       9.0          2012\n",
              "27       7.5          2012\n",
              "28       8.0          2012\n",
              "29       6.5          2012\n",
              "...      ...           ...\n",
              "18595    4.4          2016\n",
              "18596    6.5          2016\n",
              "18597    4.9          2016\n",
              "18598    6.8          2016\n",
              "18599    7.0          2016\n",
              "18600    7.4          2016\n",
              "18601    7.4          2016\n",
              "18602    7.4          2016\n",
              "18603    7.8          2016\n",
              "18604    8.6          2016\n",
              "18605    6.0          2016\n",
              "18606    6.4          2016\n",
              "18607    7.0          2016\n",
              "18608    5.4          2016\n",
              "18609    8.0          2016\n",
              "18610    6.0          2016\n",
              "18611    5.8          2016\n",
              "18612    7.8          2016\n",
              "18613    8.0          2016\n",
              "18614    9.2          2016\n",
              "18615    9.2          2016\n",
              "18616    7.5          2016\n",
              "18617    8.4          2016\n",
              "18618    9.1          2016\n",
              "18619    7.9          2016\n",
              "18620    7.6          2016\n",
              "18621    9.0          2016\n",
              "18622    5.8          2016\n",
              "18623   10.0          2016\n",
              "18624   10.0          2016\n",
              "\n",
              "[18625 rows x 2 columns]"
            ]
          },
          "metadata": {
            "tags": []
          },
          "execution_count": 24
        }
      ]
    },
    {
      "cell_type": "code",
      "metadata": {
        "id": "MkbIkavwd3i7",
        "colab_type": "code",
        "outputId": "acf505ab-5d27-473e-d271-0785117b5ad0",
        "colab": {
          "base_uri": "https://localhost:8080/",
          "height": 34
        }
      },
      "source": [
        "type(reviews['score'])"
      ],
      "execution_count": 0,
      "outputs": [
        {
          "output_type": "execute_result",
          "data": {
            "text/plain": [
              "pandas.core.series.Series"
            ]
          },
          "metadata": {
            "tags": []
          },
          "execution_count": 25
        }
      ]
    },
    {
      "cell_type": "code",
      "metadata": {
        "id": "E5h_Flo2ef6j",
        "colab_type": "code",
        "colab": {}
      },
      "source": [
        "s1 = pd.Series([1,2])"
      ],
      "execution_count": 0,
      "outputs": []
    },
    {
      "cell_type": "code",
      "metadata": {
        "id": "veYEokZ-ek_L",
        "colab_type": "code",
        "outputId": "9b39a6ee-816a-42cc-eb64-4d0729623984",
        "colab": {
          "base_uri": "https://localhost:8080/",
          "height": 69
        }
      },
      "source": [
        "s1"
      ],
      "execution_count": 0,
      "outputs": [
        {
          "output_type": "execute_result",
          "data": {
            "text/plain": [
              "0    1\n",
              "1    2\n",
              "dtype: int64"
            ]
          },
          "metadata": {
            "tags": []
          },
          "execution_count": 27
        }
      ]
    },
    {
      "cell_type": "code",
      "metadata": {
        "id": "nUfexelIemBT",
        "colab_type": "code",
        "outputId": "aa1af79a-72ae-41e4-8685-1f5709a58389",
        "colab": {
          "base_uri": "https://localhost:8080/",
          "height": 69
        }
      },
      "source": [
        "s2 = pd.Series(['Boris Yeltsin', 'Mikhail Gorvachev'])\n",
        "s2"
      ],
      "execution_count": 0,
      "outputs": [
        {
          "output_type": "execute_result",
          "data": {
            "text/plain": [
              "0        Boris Yeltsin\n",
              "1    Mikhail Gorvachev\n",
              "dtype: object"
            ]
          },
          "metadata": {
            "tags": []
          },
          "execution_count": 28
        }
      ]
    },
    {
      "cell_type": "code",
      "metadata": {
        "id": "U9sARa12evyu",
        "colab_type": "code",
        "outputId": "4f52880f-bbca-4a89-f623-ddf8359713a7",
        "colab": {
          "base_uri": "https://localhost:8080/",
          "height": 111
        }
      },
      "source": [
        "pd.DataFrame([s1,s2])"
      ],
      "execution_count": 0,
      "outputs": [
        {
          "output_type": "execute_result",
          "data": {
            "text/html": [
              "<div>\n",
              "<style scoped>\n",
              "    .dataframe tbody tr th:only-of-type {\n",
              "        vertical-align: middle;\n",
              "    }\n",
              "\n",
              "    .dataframe tbody tr th {\n",
              "        vertical-align: top;\n",
              "    }\n",
              "\n",
              "    .dataframe thead th {\n",
              "        text-align: right;\n",
              "    }\n",
              "</style>\n",
              "<table border=\"1\" class=\"dataframe\">\n",
              "  <thead>\n",
              "    <tr style=\"text-align: right;\">\n",
              "      <th></th>\n",
              "      <th>0</th>\n",
              "      <th>1</th>\n",
              "    </tr>\n",
              "  </thead>\n",
              "  <tbody>\n",
              "    <tr>\n",
              "      <th>0</th>\n",
              "      <td>1</td>\n",
              "      <td>2</td>\n",
              "    </tr>\n",
              "    <tr>\n",
              "      <th>1</th>\n",
              "      <td>Boris Yeltsin</td>\n",
              "      <td>Mikhail Gorvachev</td>\n",
              "    </tr>\n",
              "  </tbody>\n",
              "</table>\n",
              "</div>"
            ],
            "text/plain": [
              "               0                  1\n",
              "0              1                  2\n",
              "1  Boris Yeltsin  Mikhail Gorvachev"
            ]
          },
          "metadata": {
            "tags": []
          },
          "execution_count": 29
        }
      ]
    },
    {
      "cell_type": "code",
      "metadata": {
        "id": "178xgKhrfIjf",
        "colab_type": "code",
        "outputId": "4cad895c-7962-459a-a09a-22d8ea05d768",
        "colab": {
          "base_uri": "https://localhost:8080/",
          "height": 111
        }
      },
      "source": [
        "pd.DataFrame(\n",
        "[\n",
        "[1,2],\n",
        "['Boris Yeltsin', 'Mikhail Gorvachev']\n",
        "])"
      ],
      "execution_count": 0,
      "outputs": [
        {
          "output_type": "execute_result",
          "data": {
            "text/html": [
              "<div>\n",
              "<style scoped>\n",
              "    .dataframe tbody tr th:only-of-type {\n",
              "        vertical-align: middle;\n",
              "    }\n",
              "\n",
              "    .dataframe tbody tr th {\n",
              "        vertical-align: top;\n",
              "    }\n",
              "\n",
              "    .dataframe thead th {\n",
              "        text-align: right;\n",
              "    }\n",
              "</style>\n",
              "<table border=\"1\" class=\"dataframe\">\n",
              "  <thead>\n",
              "    <tr style=\"text-align: right;\">\n",
              "      <th></th>\n",
              "      <th>0</th>\n",
              "      <th>1</th>\n",
              "    </tr>\n",
              "  </thead>\n",
              "  <tbody>\n",
              "    <tr>\n",
              "      <th>0</th>\n",
              "      <td>1</td>\n",
              "      <td>2</td>\n",
              "    </tr>\n",
              "    <tr>\n",
              "      <th>1</th>\n",
              "      <td>Boris Yeltsin</td>\n",
              "      <td>Mikhail Gorvachev</td>\n",
              "    </tr>\n",
              "  </tbody>\n",
              "</table>\n",
              "</div>"
            ],
            "text/plain": [
              "               0                  1\n",
              "0              1                  2\n",
              "1  Boris Yeltsin  Mikhail Gorvachev"
            ]
          },
          "metadata": {
            "tags": []
          },
          "execution_count": 31
        }
      ]
    },
    {
      "cell_type": "code",
      "metadata": {
        "id": "v0aGCUjsfa1J",
        "colab_type": "code",
        "outputId": "15460093-7796-47b0-e640-7654217b0123",
        "colab": {
          "base_uri": "https://localhost:8080/",
          "height": 111
        }
      },
      "source": [
        "frame = pd.DataFrame(\n",
        "[\n",
        "    [1,2],\n",
        "    ['Boris Yeltsin', 'Mikhail Gorvachev']\n",
        "],\n",
        "    index = ['row1','row2'],\n",
        "    columns=['column1','column2'])\n",
        "frame"
      ],
      "execution_count": 0,
      "outputs": [
        {
          "output_type": "execute_result",
          "data": {
            "text/html": [
              "<div>\n",
              "<style scoped>\n",
              "    .dataframe tbody tr th:only-of-type {\n",
              "        vertical-align: middle;\n",
              "    }\n",
              "\n",
              "    .dataframe tbody tr th {\n",
              "        vertical-align: top;\n",
              "    }\n",
              "\n",
              "    .dataframe thead th {\n",
              "        text-align: right;\n",
              "    }\n",
              "</style>\n",
              "<table border=\"1\" class=\"dataframe\">\n",
              "  <thead>\n",
              "    <tr style=\"text-align: right;\">\n",
              "      <th></th>\n",
              "      <th>column1</th>\n",
              "      <th>column2</th>\n",
              "    </tr>\n",
              "  </thead>\n",
              "  <tbody>\n",
              "    <tr>\n",
              "      <th>row1</th>\n",
              "      <td>1</td>\n",
              "      <td>2</td>\n",
              "    </tr>\n",
              "    <tr>\n",
              "      <th>row2</th>\n",
              "      <td>Boris Yeltsin</td>\n",
              "      <td>Mikhail Gorvachev</td>\n",
              "    </tr>\n",
              "  </tbody>\n",
              "</table>\n",
              "</div>"
            ],
            "text/plain": [
              "            column1            column2\n",
              "row1              1                  2\n",
              "row2  Boris Yeltsin  Mikhail Gorvachev"
            ]
          },
          "metadata": {
            "tags": []
          },
          "execution_count": 32
        }
      ]
    },
    {
      "cell_type": "code",
      "metadata": {
        "id": "-ws_IEMCf1Ea",
        "colab_type": "code",
        "outputId": "4f48e67e-188d-4ae1-90fb-5e4a55f67169",
        "colab": {
          "base_uri": "https://localhost:8080/",
          "height": 69
        }
      },
      "source": [
        "frame.loc['row1':'row2','column1']"
      ],
      "execution_count": 0,
      "outputs": [
        {
          "output_type": "execute_result",
          "data": {
            "text/plain": [
              "row1                1\n",
              "row2    Boris Yeltsin\n",
              "Name: column1, dtype: object"
            ]
          },
          "metadata": {
            "tags": []
          },
          "execution_count": 33
        }
      ]
    },
    {
      "cell_type": "code",
      "metadata": {
        "id": "aNz72xbmf7D5",
        "colab_type": "code",
        "outputId": "ea9c8f82-573f-4320-86a9-c0bfe33b8e66",
        "colab": {
          "base_uri": "https://localhost:8080/",
          "height": 34
        }
      },
      "source": [
        "type(reviews['title'])"
      ],
      "execution_count": 0,
      "outputs": [
        {
          "output_type": "execute_result",
          "data": {
            "text/plain": [
              "pandas.core.series.Series"
            ]
          },
          "metadata": {
            "tags": []
          },
          "execution_count": 34
        }
      ]
    },
    {
      "cell_type": "code",
      "metadata": {
        "id": "z4aC755ggP6D",
        "colab_type": "code",
        "outputId": "99e875c9-9c4c-4122-9cad-453ed3dfebd3",
        "colab": {
          "base_uri": "https://localhost:8080/",
          "height": 122
        }
      },
      "source": [
        "reviews['title'].head()"
      ],
      "execution_count": 0,
      "outputs": [
        {
          "output_type": "execute_result",
          "data": {
            "text/plain": [
              "0                              LittleBigPlanet PS Vita\n",
              "1    LittleBigPlanet PS Vita -- Marvel Super Hero E...\n",
              "2                                 Splice: Tree of Life\n",
              "3                                               NHL 13\n",
              "4                                               NHL 13\n",
              "Name: title, dtype: object"
            ]
          },
          "metadata": {
            "tags": []
          },
          "execution_count": 35
        }
      ]
    },
    {
      "cell_type": "code",
      "metadata": {
        "id": "lz09eJPpgmUP",
        "colab_type": "code",
        "outputId": "27fe7f3e-bed0-4f50-ddda-b27821a9d47e",
        "colab": {
          "base_uri": "https://localhost:8080/",
          "height": 34
        }
      },
      "source": [
        "reviews['score'].mean()"
      ],
      "execution_count": 0,
      "outputs": [
        {
          "output_type": "execute_result",
          "data": {
            "text/plain": [
              "6.950459060402666"
            ]
          },
          "metadata": {
            "tags": []
          },
          "execution_count": 36
        }
      ]
    },
    {
      "cell_type": "code",
      "metadata": {
        "id": "wXcuGDhrgq5g",
        "colab_type": "code",
        "outputId": "a6cbbfed-1ece-46b4-df73-72d01408330a",
        "colab": {
          "base_uri": "https://localhost:8080/",
          "height": 104
        }
      },
      "source": [
        "reviews.mean()"
      ],
      "execution_count": 0,
      "outputs": [
        {
          "output_type": "execute_result",
          "data": {
            "text/plain": [
              "score               6.950459\n",
              "release_year     2006.515329\n",
              "release_month       7.138470\n",
              "release_day        15.603866\n",
              "dtype: float64"
            ]
          },
          "metadata": {
            "tags": []
          },
          "execution_count": 37
        }
      ]
    },
    {
      "cell_type": "code",
      "metadata": {
        "id": "ymJrz7XTgxFh",
        "colab_type": "code",
        "outputId": "fccbe2fd-2407-47bf-becb-72264c4e7b3c",
        "colab": {
          "base_uri": "https://localhost:8080/",
          "height": 1102
        }
      },
      "source": [
        "reviews.mean(axis=1)"
      ],
      "execution_count": 0,
      "outputs": [
        {
          "output_type": "execute_result",
          "data": {
            "text/plain": [
              "0        510.500\n",
              "1        510.500\n",
              "2        510.375\n",
              "3        510.125\n",
              "4        510.125\n",
              "5        509.750\n",
              "6        508.750\n",
              "7        510.250\n",
              "8        508.750\n",
              "9        509.750\n",
              "10       509.875\n",
              "11       509.875\n",
              "12       509.500\n",
              "13       509.250\n",
              "14       509.250\n",
              "15       508.375\n",
              "16       508.375\n",
              "17       508.500\n",
              "18       507.375\n",
              "19       507.750\n",
              "20       507.750\n",
              "21       514.625\n",
              "22       514.625\n",
              "23       514.625\n",
              "24       515.000\n",
              "25       514.250\n",
              "26       514.750\n",
              "27       514.125\n",
              "28       514.250\n",
              "29       513.625\n",
              "          ...   \n",
              "18595    510.850\n",
              "18596    510.875\n",
              "18597    510.225\n",
              "18598    510.700\n",
              "18599    510.750\n",
              "18600    512.600\n",
              "18601    512.600\n",
              "18602    512.600\n",
              "18603    512.450\n",
              "18604    512.400\n",
              "18605    511.500\n",
              "18606    508.600\n",
              "18607    510.750\n",
              "18608    510.350\n",
              "18609    510.750\n",
              "18610    510.250\n",
              "18611    508.700\n",
              "18612    509.200\n",
              "18613    508.000\n",
              "18614    515.050\n",
              "18615    515.050\n",
              "18616    508.375\n",
              "18617    508.600\n",
              "18618    515.025\n",
              "18619    514.725\n",
              "18620    514.650\n",
              "18621    515.000\n",
              "18622    513.950\n",
              "18623    515.000\n",
              "18624    515.000\n",
              "Length: 18625, dtype: float64"
            ]
          },
          "metadata": {
            "tags": []
          },
          "execution_count": 38
        }
      ]
    },
    {
      "cell_type": "code",
      "metadata": {
        "id": "359Ntgnsg5ov",
        "colab_type": "code",
        "outputId": "055e5a59-6d1f-447a-bad9-41603243ed0a",
        "colab": {
          "base_uri": "https://localhost:8080/",
          "height": 167
        }
      },
      "source": [
        "reives.corr()\n"
      ],
      "execution_count": 0,
      "outputs": [
        {
          "output_type": "error",
          "ename": "NameError",
          "evalue": "ignored",
          "traceback": [
            "\u001b[0;31m---------------------------------------------------------------------------\u001b[0m",
            "\u001b[0;31mNameError\u001b[0m                                 Traceback (most recent call last)",
            "\u001b[0;32m<ipython-input-39-b7fcea93d10c>\u001b[0m in \u001b[0;36m<module>\u001b[0;34m()\u001b[0m\n\u001b[0;32m----> 1\u001b[0;31m \u001b[0mreives\u001b[0m\u001b[0;34m.\u001b[0m\u001b[0mcorr\u001b[0m\u001b[0;34m(\u001b[0m\u001b[0;34m)\u001b[0m\u001b[0;34m\u001b[0m\u001b[0;34m\u001b[0m\u001b[0m\n\u001b[0m",
            "\u001b[0;31mNameError\u001b[0m: name 'reives' is not defined"
          ]
        }
      ]
    },
    {
      "cell_type": "code",
      "metadata": {
        "id": "DHaNmg24hC4j",
        "colab_type": "code",
        "outputId": "2083c792-4d32-42ce-a3e2-efc28f621f9c",
        "colab": {
          "base_uri": "https://localhost:8080/",
          "height": 173
        }
      },
      "source": [
        "reviews.corr()"
      ],
      "execution_count": 0,
      "outputs": [
        {
          "output_type": "execute_result",
          "data": {
            "text/html": [
              "<div>\n",
              "<style scoped>\n",
              "    .dataframe tbody tr th:only-of-type {\n",
              "        vertical-align: middle;\n",
              "    }\n",
              "\n",
              "    .dataframe tbody tr th {\n",
              "        vertical-align: top;\n",
              "    }\n",
              "\n",
              "    .dataframe thead th {\n",
              "        text-align: right;\n",
              "    }\n",
              "</style>\n",
              "<table border=\"1\" class=\"dataframe\">\n",
              "  <thead>\n",
              "    <tr style=\"text-align: right;\">\n",
              "      <th></th>\n",
              "      <th>score</th>\n",
              "      <th>release_year</th>\n",
              "      <th>release_month</th>\n",
              "      <th>release_day</th>\n",
              "    </tr>\n",
              "  </thead>\n",
              "  <tbody>\n",
              "    <tr>\n",
              "      <th>score</th>\n",
              "      <td>1.000000</td>\n",
              "      <td>0.062716</td>\n",
              "      <td>0.007632</td>\n",
              "      <td>0.020079</td>\n",
              "    </tr>\n",
              "    <tr>\n",
              "      <th>release_year</th>\n",
              "      <td>0.062716</td>\n",
              "      <td>1.000000</td>\n",
              "      <td>-0.115515</td>\n",
              "      <td>0.016867</td>\n",
              "    </tr>\n",
              "    <tr>\n",
              "      <th>release_month</th>\n",
              "      <td>0.007632</td>\n",
              "      <td>-0.115515</td>\n",
              "      <td>1.000000</td>\n",
              "      <td>-0.067964</td>\n",
              "    </tr>\n",
              "    <tr>\n",
              "      <th>release_day</th>\n",
              "      <td>0.020079</td>\n",
              "      <td>0.016867</td>\n",
              "      <td>-0.067964</td>\n",
              "      <td>1.000000</td>\n",
              "    </tr>\n",
              "  </tbody>\n",
              "</table>\n",
              "</div>"
            ],
            "text/plain": [
              "                  score  release_year  release_month  release_day\n",
              "score          1.000000      0.062716       0.007632     0.020079\n",
              "release_year   0.062716      1.000000      -0.115515     0.016867\n",
              "release_month  0.007632     -0.115515       1.000000    -0.067964\n",
              "release_day    0.020079      0.016867      -0.067964     1.000000"
            ]
          },
          "metadata": {
            "tags": []
          },
          "execution_count": 40
        }
      ]
    },
    {
      "cell_type": "code",
      "metadata": {
        "id": "T2yOZP07hEGa",
        "colab_type": "code",
        "outputId": "333778fc-ea51-4c60-be79-426b66953e7d",
        "colab": {
          "base_uri": "https://localhost:8080/",
          "height": 1102
        }
      },
      "source": [
        "reviews[\"score\"]/2"
      ],
      "execution_count": 0,
      "outputs": [
        {
          "output_type": "execute_result",
          "data": {
            "text/plain": [
              "0        4.50\n",
              "1        4.50\n",
              "2        4.25\n",
              "3        4.25\n",
              "4        4.25\n",
              "5        3.50\n",
              "6        1.50\n",
              "7        4.50\n",
              "8        1.50\n",
              "9        3.50\n",
              "10       3.75\n",
              "11       3.75\n",
              "12       3.50\n",
              "13       4.50\n",
              "14       4.50\n",
              "15       3.25\n",
              "16       3.25\n",
              "17       4.00\n",
              "18       2.75\n",
              "19       3.50\n",
              "20       3.50\n",
              "21       3.75\n",
              "22       3.75\n",
              "23       3.75\n",
              "24       4.50\n",
              "25       3.50\n",
              "26       4.50\n",
              "27       3.75\n",
              "28       4.00\n",
              "29       3.25\n",
              "         ... \n",
              "18595    2.20\n",
              "18596    3.25\n",
              "18597    2.45\n",
              "18598    3.40\n",
              "18599    3.50\n",
              "18600    3.70\n",
              "18601    3.70\n",
              "18602    3.70\n",
              "18603    3.90\n",
              "18604    4.30\n",
              "18605    3.00\n",
              "18606    3.20\n",
              "18607    3.50\n",
              "18608    2.70\n",
              "18609    4.00\n",
              "18610    3.00\n",
              "18611    2.90\n",
              "18612    3.90\n",
              "18613    4.00\n",
              "18614    4.60\n",
              "18615    4.60\n",
              "18616    3.75\n",
              "18617    4.20\n",
              "18618    4.55\n",
              "18619    3.95\n",
              "18620    3.80\n",
              "18621    4.50\n",
              "18622    2.90\n",
              "18623    5.00\n",
              "18624    5.00\n",
              "Name: score, Length: 18625, dtype: float64"
            ]
          },
          "metadata": {
            "tags": []
          },
          "execution_count": 41
        }
      ]
    },
    {
      "cell_type": "code",
      "metadata": {
        "id": "ZlaYrBOXhj2t",
        "colab_type": "code",
        "colab": {}
      },
      "source": [
        "score_filter = reviews['score'] > 7"
      ],
      "execution_count": 0,
      "outputs": []
    },
    {
      "cell_type": "code",
      "metadata": {
        "id": "d_DgHF1BhrNh",
        "colab_type": "code",
        "outputId": "43eeb8ba-d79e-4a40-9337-8e0714c87a54",
        "colab": {
          "base_uri": "https://localhost:8080/",
          "height": 1102
        }
      },
      "source": [
        "score_filter"
      ],
      "execution_count": 0,
      "outputs": [
        {
          "output_type": "execute_result",
          "data": {
            "text/plain": [
              "0         True\n",
              "1         True\n",
              "2         True\n",
              "3         True\n",
              "4         True\n",
              "5        False\n",
              "6        False\n",
              "7         True\n",
              "8        False\n",
              "9        False\n",
              "10        True\n",
              "11        True\n",
              "12       False\n",
              "13        True\n",
              "14        True\n",
              "15       False\n",
              "16       False\n",
              "17        True\n",
              "18       False\n",
              "19       False\n",
              "20       False\n",
              "21        True\n",
              "22        True\n",
              "23        True\n",
              "24        True\n",
              "25       False\n",
              "26        True\n",
              "27        True\n",
              "28        True\n",
              "29       False\n",
              "         ...  \n",
              "18595    False\n",
              "18596    False\n",
              "18597    False\n",
              "18598    False\n",
              "18599    False\n",
              "18600     True\n",
              "18601     True\n",
              "18602     True\n",
              "18603     True\n",
              "18604     True\n",
              "18605    False\n",
              "18606    False\n",
              "18607    False\n",
              "18608    False\n",
              "18609     True\n",
              "18610    False\n",
              "18611    False\n",
              "18612     True\n",
              "18613     True\n",
              "18614     True\n",
              "18615     True\n",
              "18616     True\n",
              "18617     True\n",
              "18618     True\n",
              "18619     True\n",
              "18620     True\n",
              "18621     True\n",
              "18622    False\n",
              "18623     True\n",
              "18624     True\n",
              "Name: score, Length: 18625, dtype: bool"
            ]
          },
          "metadata": {
            "tags": []
          },
          "execution_count": 43
        }
      ]
    },
    {
      "cell_type": "code",
      "metadata": {
        "id": "TgfVWcDJhsXh",
        "colab_type": "code",
        "outputId": "79a2c751-5f28-4e1c-bd8f-28648c51fe38",
        "colab": {
          "base_uri": "https://localhost:8080/",
          "height": 343
        }
      },
      "source": [
        "filtered_reviews = reviews[score_filter]\n",
        "filtered_reviews.head()"
      ],
      "execution_count": 0,
      "outputs": [
        {
          "output_type": "execute_result",
          "data": {
            "text/html": [
              "<div>\n",
              "<style scoped>\n",
              "    .dataframe tbody tr th:only-of-type {\n",
              "        vertical-align: middle;\n",
              "    }\n",
              "\n",
              "    .dataframe tbody tr th {\n",
              "        vertical-align: top;\n",
              "    }\n",
              "\n",
              "    .dataframe thead th {\n",
              "        text-align: right;\n",
              "    }\n",
              "</style>\n",
              "<table border=\"1\" class=\"dataframe\">\n",
              "  <thead>\n",
              "    <tr style=\"text-align: right;\">\n",
              "      <th></th>\n",
              "      <th>score_phrase</th>\n",
              "      <th>title</th>\n",
              "      <th>url</th>\n",
              "      <th>platform</th>\n",
              "      <th>score</th>\n",
              "      <th>genre</th>\n",
              "      <th>editors_choice</th>\n",
              "      <th>release_year</th>\n",
              "      <th>release_month</th>\n",
              "      <th>release_day</th>\n",
              "    </tr>\n",
              "  </thead>\n",
              "  <tbody>\n",
              "    <tr>\n",
              "      <th>0</th>\n",
              "      <td>Amazing</td>\n",
              "      <td>LittleBigPlanet PS Vita</td>\n",
              "      <td>/games/littlebigplanet-vita/vita-98907</td>\n",
              "      <td>PlayStation Vita</td>\n",
              "      <td>9.0</td>\n",
              "      <td>Platformer</td>\n",
              "      <td>Y</td>\n",
              "      <td>2012</td>\n",
              "      <td>9</td>\n",
              "      <td>12</td>\n",
              "    </tr>\n",
              "    <tr>\n",
              "      <th>1</th>\n",
              "      <td>Amazing</td>\n",
              "      <td>LittleBigPlanet PS Vita -- Marvel Super Hero E...</td>\n",
              "      <td>/games/littlebigplanet-ps-vita-marvel-super-he...</td>\n",
              "      <td>PlayStation Vita</td>\n",
              "      <td>9.0</td>\n",
              "      <td>Platformer</td>\n",
              "      <td>Y</td>\n",
              "      <td>2012</td>\n",
              "      <td>9</td>\n",
              "      <td>12</td>\n",
              "    </tr>\n",
              "    <tr>\n",
              "      <th>2</th>\n",
              "      <td>Great</td>\n",
              "      <td>Splice: Tree of Life</td>\n",
              "      <td>/games/splice/ipad-141070</td>\n",
              "      <td>iPad</td>\n",
              "      <td>8.5</td>\n",
              "      <td>Puzzle</td>\n",
              "      <td>N</td>\n",
              "      <td>2012</td>\n",
              "      <td>9</td>\n",
              "      <td>12</td>\n",
              "    </tr>\n",
              "    <tr>\n",
              "      <th>3</th>\n",
              "      <td>Great</td>\n",
              "      <td>NHL 13</td>\n",
              "      <td>/games/nhl-13/xbox-360-128182</td>\n",
              "      <td>Xbox 360</td>\n",
              "      <td>8.5</td>\n",
              "      <td>Sports</td>\n",
              "      <td>N</td>\n",
              "      <td>2012</td>\n",
              "      <td>9</td>\n",
              "      <td>11</td>\n",
              "    </tr>\n",
              "    <tr>\n",
              "      <th>4</th>\n",
              "      <td>Great</td>\n",
              "      <td>NHL 13</td>\n",
              "      <td>/games/nhl-13/ps3-128181</td>\n",
              "      <td>PlayStation 3</td>\n",
              "      <td>8.5</td>\n",
              "      <td>Sports</td>\n",
              "      <td>N</td>\n",
              "      <td>2012</td>\n",
              "      <td>9</td>\n",
              "      <td>11</td>\n",
              "    </tr>\n",
              "  </tbody>\n",
              "</table>\n",
              "</div>"
            ],
            "text/plain": [
              "  score_phrase  ... release_day\n",
              "0      Amazing  ...          12\n",
              "1      Amazing  ...          12\n",
              "2        Great  ...          12\n",
              "3        Great  ...          11\n",
              "4        Great  ...          11\n",
              "\n",
              "[5 rows x 10 columns]"
            ]
          },
          "metadata": {
            "tags": []
          },
          "execution_count": 44
        }
      ]
    },
    {
      "cell_type": "code",
      "metadata": {
        "id": "7wwi9TT1h2QY",
        "colab_type": "code",
        "outputId": "6966e6a1-0b68-4fa8-b26b-ca5e581a814d",
        "colab": {
          "base_uri": "https://localhost:8080/",
          "height": 428
        }
      },
      "source": [
        "xbox_one_filter = (reviews['score'] > 7) & (reviews['platform'] == 'Xbox One')\n",
        "filtered_reviews = reviews[xbox_one_filter]\n",
        "filtered_reviews.head()"
      ],
      "execution_count": 0,
      "outputs": [
        {
          "output_type": "execute_result",
          "data": {
            "text/html": [
              "<div>\n",
              "<style scoped>\n",
              "    .dataframe tbody tr th:only-of-type {\n",
              "        vertical-align: middle;\n",
              "    }\n",
              "\n",
              "    .dataframe tbody tr th {\n",
              "        vertical-align: top;\n",
              "    }\n",
              "\n",
              "    .dataframe thead th {\n",
              "        text-align: right;\n",
              "    }\n",
              "</style>\n",
              "<table border=\"1\" class=\"dataframe\">\n",
              "  <thead>\n",
              "    <tr style=\"text-align: right;\">\n",
              "      <th></th>\n",
              "      <th>score_phrase</th>\n",
              "      <th>title</th>\n",
              "      <th>url</th>\n",
              "      <th>platform</th>\n",
              "      <th>score</th>\n",
              "      <th>genre</th>\n",
              "      <th>editors_choice</th>\n",
              "      <th>release_year</th>\n",
              "      <th>release_month</th>\n",
              "      <th>release_day</th>\n",
              "    </tr>\n",
              "  </thead>\n",
              "  <tbody>\n",
              "    <tr>\n",
              "      <th>17137</th>\n",
              "      <td>Amazing</td>\n",
              "      <td>Gone Home</td>\n",
              "      <td>/games/gone-home/xbox-one-20014361</td>\n",
              "      <td>Xbox One</td>\n",
              "      <td>9.5</td>\n",
              "      <td>Simulation</td>\n",
              "      <td>Y</td>\n",
              "      <td>2013</td>\n",
              "      <td>8</td>\n",
              "      <td>15</td>\n",
              "    </tr>\n",
              "    <tr>\n",
              "      <th>17197</th>\n",
              "      <td>Amazing</td>\n",
              "      <td>Rayman Legends</td>\n",
              "      <td>/games/rayman-legends/xbox-one-20008449</td>\n",
              "      <td>Xbox One</td>\n",
              "      <td>9.5</td>\n",
              "      <td>Platformer</td>\n",
              "      <td>Y</td>\n",
              "      <td>2013</td>\n",
              "      <td>8</td>\n",
              "      <td>26</td>\n",
              "    </tr>\n",
              "    <tr>\n",
              "      <th>17295</th>\n",
              "      <td>Amazing</td>\n",
              "      <td>LEGO Marvel Super Heroes</td>\n",
              "      <td>/games/lego-marvel-super-heroes/xbox-one-20000826</td>\n",
              "      <td>Xbox One</td>\n",
              "      <td>9.0</td>\n",
              "      <td>Action</td>\n",
              "      <td>Y</td>\n",
              "      <td>2013</td>\n",
              "      <td>10</td>\n",
              "      <td>22</td>\n",
              "    </tr>\n",
              "    <tr>\n",
              "      <th>17313</th>\n",
              "      <td>Great</td>\n",
              "      <td>Dead Rising 3</td>\n",
              "      <td>/games/dead-rising-3/xbox-one-124306</td>\n",
              "      <td>Xbox One</td>\n",
              "      <td>8.3</td>\n",
              "      <td>Action</td>\n",
              "      <td>N</td>\n",
              "      <td>2013</td>\n",
              "      <td>11</td>\n",
              "      <td>18</td>\n",
              "    </tr>\n",
              "    <tr>\n",
              "      <th>17317</th>\n",
              "      <td>Great</td>\n",
              "      <td>Killer Instinct</td>\n",
              "      <td>/games/killer-instinct-2013/xbox-one-20000538</td>\n",
              "      <td>Xbox One</td>\n",
              "      <td>8.4</td>\n",
              "      <td>Fighting</td>\n",
              "      <td>N</td>\n",
              "      <td>2013</td>\n",
              "      <td>11</td>\n",
              "      <td>18</td>\n",
              "    </tr>\n",
              "  </tbody>\n",
              "</table>\n",
              "</div>"
            ],
            "text/plain": [
              "      score_phrase                     title  ... release_month release_day\n",
              "17137      Amazing                 Gone Home  ...             8          15\n",
              "17197      Amazing            Rayman Legends  ...             8          26\n",
              "17295      Amazing  LEGO Marvel Super Heroes  ...            10          22\n",
              "17313        Great             Dead Rising 3  ...            11          18\n",
              "17317        Great           Killer Instinct  ...            11          18\n",
              "\n",
              "[5 rows x 10 columns]"
            ]
          },
          "metadata": {
            "tags": []
          },
          "execution_count": 47
        }
      ]
    },
    {
      "cell_type": "code",
      "metadata": {
        "id": "NVroWRwCiHXW",
        "colab_type": "code",
        "outputId": "1e00f94f-5118-457b-ecad-18734f7a8182",
        "colab": {
          "base_uri": "https://localhost:8080/",
          "height": 286
        }
      },
      "source": [
        "reviews[reviews['platform'] == 'Xbox One']['score'].plot(kind='hist')"
      ],
      "execution_count": 0,
      "outputs": [
        {
          "output_type": "execute_result",
          "data": {
            "text/plain": [
              "<matplotlib.axes._subplots.AxesSubplot at 0x7f1c0be97390>"
            ]
          },
          "metadata": {
            "tags": []
          },
          "execution_count": 48
        },
        {
          "output_type": "display_data",
          "data": {
            "image/png": "[encoded data removed]",
            "text/plain": [
              "<Figure size 432x288 with 1 Axes>"
            ]
          },
          "metadata": {
            "tags": []
          }
        }
      ]
    },
    {
      "cell_type": "code",
      "metadata": {
        "id": "2UoWcVWcjJDy",
        "colab_type": "code",
        "outputId": "1bcb410b-d5a5-48b2-d77c-fb3f689705d5",
        "colab": {
          "base_uri": "https://localhost:8080/",
          "height": 286
        }
      },
      "source": [
        "reviews[reviews['platform'] == \"PlayStation 4\"]['score'].plot(kind='hist')"
      ],
      "execution_count": 0,
      "outputs": [
        {
          "output_type": "execute_result",
          "data": {
            "text/plain": [
              "<matplotlib.axes._subplots.AxesSubplot at 0x7f1c0be24b70>"
            ]
          },
          "metadata": {
            "tags": []
          },
          "execution_count": 50
        },
        {
          "output_type": "display_data",
          "data": {
            "image/png": "[encoded data removed]",
            "text/plain": [
              "<Figure size 432x288 with 1 Axes>"
            ]
          },
          "metadata": {
            "tags": []
          }
        }
      ]
    },
    {
      "cell_type": "code",
      "metadata": {
        "id": "CKwWaQ_yjXma",
        "colab_type": "code",
        "outputId": "89b221f2-d6d7-4e76-87c3-e6f10059c917",
        "colab": {
          "base_uri": "https://localhost:8080/",
          "height": 286
        }
      },
      "source": [
        "filtered_reviews['score'].hist()"
      ],
      "execution_count": 0,
      "outputs": [
        {
          "output_type": "execute_result",
          "data": {
            "text/plain": [
              "<matplotlib.axes._subplots.AxesSubplot at 0x7f1c0950fc88>"
            ]
          },
          "metadata": {
            "tags": []
          },
          "execution_count": 51
        },
        {
          "output_type": "display_data",
          "data": {
            "image/png": "[encoded data removed]",
            "text/plain": [
              "<Figure size 432x288 with 1 Axes>"
            ]
          },
          "metadata": {
            "tags": []
          }
        }
      ]
    },
    {
      "cell_type": "code",
      "metadata": {
        "id": "f_OE-v7Sjlsv",
        "colab_type": "code",
        "colab": {}
      },
      "source": [
        ""
      ],
      "execution_count": 0,
      "outputs": []
    }
  ]
}